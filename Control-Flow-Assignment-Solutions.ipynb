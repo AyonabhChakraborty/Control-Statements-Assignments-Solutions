{
 "cells": [
  {
   "cell_type": "markdown",
   "id": "bb56e02e-ed30-4420-b7bb-b27a48205f77",
   "metadata": {},
   "source": [
    "Basic If-Else Statements:"
   ]
  },
  {
   "cell_type": "code",
   "execution_count": 1,
   "id": "30668247-fd4d-47ae-b6e9-293b483ab6f8",
   "metadata": {},
   "outputs": [
    {
     "name": "stdin",
     "output_type": "stream",
     "text": [
      "Enter a num :  -9\n"
     ]
    },
    {
     "name": "stdout",
     "output_type": "stream",
     "text": [
      "The number is negative\n"
     ]
    }
   ],
   "source": [
    "n = int(input('Enter a num : '))\n",
    "if n>0:\n",
    "    print(f'The number {n} is positive')\n",
    "else:\n",
    "    print('The number is negative')"
   ]
  },
  {
   "cell_type": "code",
   "execution_count": 2,
   "id": "bd5baf2a-4d4b-4336-a804-b304d09f0dfe",
   "metadata": {},
   "outputs": [
    {
     "name": "stdin",
     "output_type": "stream",
     "text": [
      "Enter the name of the voter :  Ayonav Pandey\n",
      "Enter the age of the voter :  21\n"
     ]
    },
    {
     "name": "stdout",
     "output_type": "stream",
     "text": [
      "The voter Ayonav Pandey is eligible to vote\n"
     ]
    }
   ],
   "source": [
    "s = input('Enter the name of the voter : ')\n",
    "n = int(input('Enter the age of the voter : '))\n",
    "if n < 18:\n",
    "    print(f'The voter {s} is not eligible to vote')\n",
    "else:\n",
    "    print(f'The voter {s} is eligible to vote')"
   ]
  },
  {
   "cell_type": "code",
   "execution_count": 6,
   "id": "db71e3e3-acb3-44b3-a595-582ef1454fe6",
   "metadata": {},
   "outputs": [
    {
     "name": "stdin",
     "output_type": "stream",
     "text": [
      "Enter the first num :  23\n",
      "Enter the second num: 45\n"
     ]
    },
    {
     "name": "stdout",
     "output_type": "stream",
     "text": [
      "45 is greater than 23\n"
     ]
    }
   ],
   "source": [
    "n1 = int(input('Enter the first num : '))\n",
    "n2 = int(input('Enter the second num:'))\n",
    "if n1 > n2:\n",
    "    print(f'{n1} is greater than {n2}')\n",
    "else:\n",
    "    print(f'{n2} is greater than {n1}')\n",
    "          "
   ]
  },
  {
   "cell_type": "code",
   "execution_count": 7,
   "id": "0ca4eac5-4dd8-4f1e-9e95-35ce19e6b017",
   "metadata": {},
   "outputs": [
    {
     "name": "stdin",
     "output_type": "stream",
     "text": [
      "Enter the year of your choice :  2004\n"
     ]
    },
    {
     "name": "stdout",
     "output_type": "stream",
     "text": [
      "2004 is a leap year\n"
     ]
    }
   ],
   "source": [
    "year = int(input('Enter the year of your choice : '))\n",
    "\n",
    "if (year%4==0 and year%100!=0) or (year%400==0):\n",
    "    print(f'{year} is a leap year')\n",
    "else:\n",
    "    print(f'{year} is not a leap year')"
   ]
  },
  {
   "cell_type": "code",
   "execution_count": 10,
   "id": "e2982e58-5703-422b-be4c-61bd77ecafd0",
   "metadata": {},
   "outputs": [
    {
     "name": "stdin",
     "output_type": "stream",
     "text": [
      "Enter a single character :  V\n"
     ]
    },
    {
     "name": "stdout",
     "output_type": "stream",
     "text": [
      "V is a consonant\n"
     ]
    }
   ],
   "source": [
    "s = input('Enter a single character : ')\n",
    "vowels = 'aeiouAEIOU'\n",
    "for char in vowels :\n",
    "    if char == s:\n",
    "        print(f'{s} is a vowel')\n",
    "        break\n",
    "    else:\n",
    "        print(f'{s} is a consonant')\n",
    "        break"
   ]
  },
  {
   "cell_type": "code",
   "execution_count": 11,
   "id": "8c52f5ca-a942-40dd-ae5b-ac7d79ab0cb2",
   "metadata": {},
   "outputs": [
    {
     "name": "stdin",
     "output_type": "stream",
     "text": [
      "Enter a number :  23\n"
     ]
    },
    {
     "name": "stdout",
     "output_type": "stream",
     "text": [
      "The number 23 is odd\n"
     ]
    }
   ],
   "source": [
    "n = int(input('Enter a number : '))\n",
    "if n%2==0:\n",
    "    print(f'The number {n} is even')\n",
    "else:\n",
    "    print(f'The number {n} is odd')"
   ]
  },
  {
   "cell_type": "code",
   "execution_count": 12,
   "id": "9e4d2a9c-2cc4-4e24-8efd-9363a4e0c120",
   "metadata": {},
   "outputs": [
    {
     "data": {
      "text/plain": [
       "12.56"
      ]
     },
     "execution_count": 12,
     "metadata": {},
     "output_type": "execute_result"
    }
   ],
   "source": []
  },
  {
   "cell_type": "code",
   "execution_count": 13,
   "id": "ff5552ae-a2f3-496e-b798-2c31883d68e9",
   "metadata": {},
   "outputs": [
    {
     "name": "stdin",
     "output_type": "stream",
     "text": [
      "Enter the number of your choice :  -900\n"
     ]
    },
    {
     "name": "stdout",
     "output_type": "stream",
     "text": [
      "The absolute value of -900 is 900\n"
     ]
    }
   ],
   "source": [
    "def baso(n):\n",
    "    if n < 0:\n",
    "        return -n\n",
    "    else:\n",
    "        return n\n",
    "    \n",
    "n = int(input('Enter the number of your choice : '))\n",
    "x = baso(n)\n",
    "print(f'The absolute value of {n} is {x}')"
   ]
  },
  {
   "cell_type": "code",
   "execution_count": 14,
   "id": "5e89345d-f58f-43fb-8f20-3d0ea666b911",
   "metadata": {},
   "outputs": [
    {
     "name": "stdin",
     "output_type": "stream",
     "text": [
      "Enter the first number :  100\n",
      "Enter the second number :  200\n",
      "Enter the third  number :  201\n"
     ]
    },
    {
     "name": "stdout",
     "output_type": "stream",
     "text": [
      "THe largest is  201\n"
     ]
    }
   ],
   "source": [
    "a = int(input('Enter the first number : '))\n",
    "b = int(input('Enter the second number : '))\n",
    "c = int(input('Enter the third  number : '))\n",
    "\n",
    "if a > b and a > c:\n",
    "    print('The largest is : ', a)\n",
    "elif b > c:\n",
    "    print('The largest is : ', b)\n",
    "else:\n",
    "    print('THe largest is ', c)"
   ]
  },
  {
   "cell_type": "code",
   "execution_count": 15,
   "id": "00d99441-fe8d-4d11-b8b3-9a2cf0e93009",
   "metadata": {},
   "outputs": [
    {
     "name": "stdin",
     "output_type": "stream",
     "text": [
      "Enter a string or word of your choice :  KAYAK\n"
     ]
    },
    {
     "name": "stdout",
     "output_type": "stream",
     "text": [
      "KAYAK is palindromic in nature\n"
     ]
    }
   ],
   "source": [
    "s = input('Enter a string or word of your choice : ')\n",
    "if s == s[::-1]:\n",
    "    print(f'{s} is palindromic in nature')\n",
    "else:\n",
    "    print(f'{s} is not palindromic in nature')"
   ]
  },
  {
   "cell_type": "code",
   "execution_count": 17,
   "id": "9170ae34-7ad0-4f69-b116-6d0644924c33",
   "metadata": {},
   "outputs": [
    {
     "name": "stdin",
     "output_type": "stream",
     "text": [
      "Enter the marks of the student :  56\n"
     ]
    },
    {
     "name": "stdout",
     "output_type": "stream",
     "text": [
      "Grade C\n"
     ]
    }
   ],
   "source": [
    "a = int(input('Enter the marks of the student : '))\n",
    "if (a<=100 and a>=80):\n",
    "    print('Grade A')\n",
    "elif (a<=79 and a>=60):\n",
    "    print('Grade B')\n",
    "elif (a<=59 and a>=40):\n",
    "    print('Grade C')\n",
    "else:\n",
    "    print('Failed')"
   ]
  },
  {
   "cell_type": "markdown",
   "id": "70d2a94d-36d7-4411-91cb-a637d6c16890",
   "metadata": {},
   "source": [
    "Nested If-Else Statements:"
   ]
  },
  {
   "cell_type": "code",
   "execution_count": 18,
   "id": "d3015f80-1d65-4e79-ba6f-68a2fdc8056e",
   "metadata": {},
   "outputs": [
    {
     "name": "stdin",
     "output_type": "stream",
     "text": [
      "Enter the first number :  45\n",
      "Enter the second number :  46\n",
      "Enter the third  number :  89\n"
     ]
    },
    {
     "name": "stdout",
     "output_type": "stream",
     "text": [
      "THe largest is  89\n"
     ]
    }
   ],
   "source": [
    "a = int(input('Enter the first number : '))\n",
    "b = int(input('Enter the second number : '))\n",
    "c = int(input('Enter the third  number : '))\n",
    "\n",
    "if a > b and a > c:\n",
    "    print('The largest is : ', a)\n",
    "elif b > c:\n",
    "    print('The largest is : ', b)\n",
    "else:\n",
    "    print('THe largest is ', c)"
   ]
  },
  {
   "cell_type": "code",
   "execution_count": 19,
   "id": "cf811550-d460-4247-a374-18518a702f7a",
   "metadata": {},
   "outputs": [
    {
     "name": "stdout",
     "output_type": "stream",
     "text": [
      "Enter the sides of the triangle :- \n",
      "\n"
     ]
    },
    {
     "name": "stdin",
     "output_type": "stream",
     "text": [
      "Enter the length of the first side of the triangle : 23\n",
      "Enter the length of the second side of the triangle : 24\n",
      "Enter the length of the third side of the triangle :  23\n"
     ]
    },
    {
     "name": "stdout",
     "output_type": "stream",
     "text": [
      "The triangle is isosceles in nature\n"
     ]
    }
   ],
   "source": [
    "print('Enter the sides of the triangle :- \\n')\n",
    "s1 = float(input('Enter the length of the first side of the triangle :'))\n",
    "s2 = float(input('Enter the length of the second side of the triangle :'))\n",
    "s3 = float(input('Enter the length of the third side of the triangle : '))\n",
    "\n",
    "if (s1==s2 and s2==s3 and s3==s1):\n",
    "    print('The triangle is equilateral in nature')\n",
    "elif (s1==s2 or s2==s3 or s3==s1):\n",
    "    print('The triangle is isosceles in nature')\n",
    "else:\n",
    "    print('The triangle is scalene in nature')"
   ]
  },
  {
   "cell_type": "code",
   "execution_count": 20,
   "id": "ce2fc013-1365-42e6-87cd-7b1146e7ade4",
   "metadata": {},
   "outputs": [
    {
     "name": "stdin",
     "output_type": "stream",
     "text": [
      "Enter the year for determination :  2000\n"
     ]
    },
    {
     "name": "stdout",
     "output_type": "stream",
     "text": [
      "2000 is a leap and a century year\n"
     ]
    }
   ],
   "source": [
    "year = int(input('Enter the year for determination : '))\n",
    "\n",
    "if year%4==0:\n",
    "    if year%100==0:\n",
    "        if year%400==0:\n",
    "            print(f'{year} is a leap and a century year')\n",
    "        else:\n",
    "            print(f'{year} is a century year but not leap year')\n",
    "    else:\n",
    "        print(f'{year} is a leap year but not a century year')\n",
    "else:\n",
    "    print(f'It is neither a leap year nor a century year.')"
   ]
  },
  {
   "cell_type": "code",
   "execution_count": 2,
   "id": "bcdb7e90-5fe9-4815-9b6a-11e72aff1c91",
   "metadata": {},
   "outputs": [
    {
     "name": "stdin",
     "output_type": "stream",
     "text": [
      "Enter a number of your choice :  90\n"
     ]
    },
    {
     "name": "stdout",
     "output_type": "stream",
     "text": [
      "90 is a positive number\n"
     ]
    }
   ],
   "source": [
    "n = int(input('Enter a number of your choice : '))\n",
    "\n",
    "if n>0:\n",
    "    print(f'{n} is a positive number')\n",
    "elif n == 0:\n",
    "    print(f'The value of {n} is 0')\n",
    "else:\n",
    "    print(f'{n} is a negativr number')"
   ]
  },
  {
   "cell_type": "code",
   "execution_count": 3,
   "id": "bcee94f4-3de1-401e-8944-94be02edb7e9",
   "metadata": {},
   "outputs": [
    {
     "name": "stdin",
     "output_type": "stream",
     "text": [
      "Enter the age of the individual :  17\n"
     ]
    },
    {
     "name": "stdout",
     "output_type": "stream",
     "text": [
      "The individual is a teenager\n"
     ]
    }
   ],
   "source": [
    "s = int(input('Enter the age of the individual : '))\n",
    "if (s>13 and s<19):\n",
    "    print('The individual is a teenager')\n",
    "else:\n",
    "    print('The individual is not a teenage')"
   ]
  },
  {
   "cell_type": "code",
   "execution_count": 5,
   "id": "f6bc49e4-c7bc-4620-bef5-70ba5cd61c36",
   "metadata": {},
   "outputs": [
    {
     "name": "stdin",
     "output_type": "stream",
     "text": [
      "Enter an angle of your choice :  90\n"
     ]
    },
    {
     "name": "stdout",
     "output_type": "stream",
     "text": [
      "90 is a right angle\n"
     ]
    }
   ],
   "source": [
    "angl = int(input('Enter an angle of your choice : '))\n",
    "if angl < 180 :\n",
    "    if angl < 90:\n",
    "        print(f'{angl} is an acute angle')\n",
    "    elif  angl == 90:\n",
    "        print(f'{angl} is a right angle')\n",
    "else:\n",
    "    print(f'{angl} is obtuse in nature')"
   ]
  },
  {
   "cell_type": "code",
   "execution_count": 3,
   "id": "cd4f568c-7887-46f1-a992-1d8a57d736be",
   "metadata": {},
   "outputs": [
    {
     "name": "stdin",
     "output_type": "stream",
     "text": [
      "Enter the value of the coefficient \"a\" :  2\n",
      "Enter the value of the coefficient \"b\" :  3\n",
      "Enter the value of the coefficient \"c\" :  4\n"
     ]
    },
    {
     "name": "stdout",
     "output_type": "stream",
     "text": [
      "First root is :  (-0.75+1.1989578808281798j)\n",
      "Second root is :  (-0.75-1.1989578808281798j)\n"
     ]
    }
   ],
   "source": [
    "import math\n",
    "\n",
    "a = int(input('Enter the value of the coefficient \"a\" : '))\n",
    "b = int(input('Enter the value of the coefficient \"b\" : '))\n",
    "c = int(input('Enter the value of the coefficient \"c\" : '))\n",
    "\n",
    "dis = b**2 - 4*a*c\n",
    "\n",
    "if dis > 0:\n",
    "    x1 = ((-b) + dis)/(2*a)\n",
    "    x2 = ((-b) - dis)/(2*a)\n",
    "    print('The first root is : ', x1)\n",
    "    print('The second root is : ', x2)\n",
    "elif dis == 0:\n",
    "    x = (-b)/(2*a)\n",
    "    print('The root of the equation is : ',x)\n",
    "else:\n",
    "    xreal = (-b)/(2*a)\n",
    "    ximaginary = math.sqrt(abs(dis))/(2*a)\n",
    "    print('First root is : ', complex(xreal, ximaginary))\n",
    "    print('Second root is : ', complex(xreal, -ximaginary))"
   ]
  },
  {
   "cell_type": "code",
   "execution_count": 9,
   "id": "d7695f9d-846c-4849-b4a0-213ddc2c5ef7",
   "metadata": {},
   "outputs": [
    {
     "name": "stdin",
     "output_type": "stream",
     "text": [
      "Enter the number between 1 and 7 as desired by the user :  9\n"
     ]
    },
    {
     "name": "stdout",
     "output_type": "stream",
     "text": [
      "Out of the bounds error\n"
     ]
    }
   ],
   "source": [
    "dict = {1:'Monday',2:'Tuesday',3:'Wednesday',4:'Thursday',5:'Friday',6:'Saturday',7:'Sunday'}\n",
    "\n",
    "n = int(input('Enter the number between 1 and 7 as desired by the user : '))\n",
    "\n",
    "for key,value in dict.items():\n",
    "    if key == 1 :\n",
    "        if n == key :\n",
    "            print(value)\n",
    "    elif key == 2:\n",
    "        if n == 2:\n",
    "            print(value)\n",
    "    elif key == 3:\n",
    "        if n == key:\n",
    "            print(value)\n",
    "    elif key == 4:\n",
    "        if n== key:\n",
    "            print(value)\n",
    "    elif key == 5 :\n",
    "        if n==key:\n",
    "            print(value)\n",
    "    elif key == 6 :\n",
    "        if n== key:\n",
    "            print(value)\n",
    "    elif key == 7 :\n",
    "        if n==key:\n",
    "            print(value)\n",
    "if n<1 or n>7:\n",
    "     print('Out of the bounds error')\n",
    "            \n",
    "\n",
    "\n"
   ]
  },
  {
   "cell_type": "code",
   "execution_count": 33,
   "id": "521b36e8-ecc3-4c6c-bf4b-e897256162cd",
   "metadata": {},
   "outputs": [
    {
     "name": "stdin",
     "output_type": "stream",
     "text": [
      "Enter the year of your choice :  2004\n"
     ]
    },
    {
     "name": "stdout",
     "output_type": "stream",
     "text": [
      "2004 is a leap year\n",
      "2004 doesnt satisfy the condition\n"
     ]
    }
   ],
   "source": [
    "year = int(input('Enter the year of your choice : '))\n",
    "\n",
    "if (year%4==0 and year%100!=0): \n",
    "    print(f'{year} is a leap year')\n",
    "    if year%400==0:\n",
    "        print(f'{year} satisfies the condition')\n",
    "    else:\n",
    "        print(f'{year} doesnt satisfy the condition')\n",
    "\n",
    "else:\n",
    "    print(f'{year} is not a leap year')"
   ]
  },
  {
   "cell_type": "code",
   "execution_count": 35,
   "id": "cff7d0ea-169d-4c20-844f-927ff647296f",
   "metadata": {},
   "outputs": [
    {
     "name": "stdin",
     "output_type": "stream",
     "text": [
      "Enter the number of the desire :  67\n"
     ]
    },
    {
     "name": "stdout",
     "output_type": "stream",
     "text": [
      "67 is a prime number\n"
     ]
    }
   ],
   "source": [
    "def checkprime(n):\n",
    "    if n<=1:\n",
    "        return False\n",
    "    elif n <= 3:\n",
    "        return True\n",
    "    elif n%2==0 or n%3==0:\n",
    "        return False\n",
    "    \n",
    "    a = 5\n",
    "    while a*a<n:\n",
    "        if n%a!=0 and n%(a+2)!=0:\n",
    "            return True\n",
    "        a = a + 1\n",
    "        \n",
    "    return False\n",
    "\n",
    "\n",
    "\n",
    "n = int(input('Enter the number of the desire : '))\n",
    "x = checkprime(n)\n",
    "if x:\n",
    "    print(f'{n} is a prime number')\n",
    "else:\n",
    "    print(f'{n} is not a prime number')\n",
    "    "
   ]
  },
  {
   "cell_type": "code",
   "execution_count": 39,
   "id": "02760590-25e7-4505-b131-d7e1004f8862",
   "metadata": {},
   "outputs": [
    {
     "name": "stdin",
     "output_type": "stream",
     "text": [
      "Enter the score of the candidate :  78\n"
     ]
    },
    {
     "name": "stdout",
     "output_type": "stream",
     "text": [
      "Grade B\n"
     ]
    }
   ],
   "source": [
    "n = int(input('Enter the score of the candidate : '))\n",
    "\n",
    "if n>=80 and n<=100:\n",
    "    print('Grade A')\n",
    "elif n>=60 and n<=79:\n",
    "    print('Grade B')\n",
    "elif n>=40 and n<=59:\n",
    "    print('Grade C')\n",
    "else:\n",
    "    print('Candidate has failed')"
   ]
  },
  {
   "cell_type": "code",
   "execution_count": 3,
   "id": "edcaaa22-edcd-465a-bce5-936820366615",
   "metadata": {},
   "outputs": [
    {
     "name": "stdin",
     "output_type": "stream",
     "text": [
      "Enter the first angle of the triangle :  35\n",
      "Enter the second angle of the triangle :  110\n",
      "Enter the third angle of the triangle :  35\n"
     ]
    },
    {
     "name": "stdout",
     "output_type": "stream",
     "text": [
      "The triangle is isosceles in nature\n"
     ]
    }
   ],
   "source": [
    "a1 = int(input('Enter the first angle of the triangle : '))\n",
    "a2 = int(input('Enter the second angle of the triangle : '))\n",
    "a3 = int(input('Enter the third angle of the triangle : '))\n",
    "\n",
    "if a1==a2 and a2==a3 and a3==a1:\n",
    "    print('The triangle is equilateral in nature')\n",
    "elif a1==a2 or a2==a3 or a3==a1:\n",
    "    print('The triangle is isosceles in nature')\n",
    "else:\n",
    "    print('The triangle is scalene in nature')"
   ]
  },
  {
   "cell_type": "code",
   "execution_count": 7,
   "id": "d7339896-3353-42ab-9974-41e39e1962aa",
   "metadata": {},
   "outputs": [
    {
     "name": "stdin",
     "output_type": "stream",
     "text": [
      "Enter the value of BMI of the selected person :  23.678\n"
     ]
    },
    {
     "name": "stdout",
     "output_type": "stream",
     "text": [
      "The person has normal weight\n"
     ]
    }
   ],
   "source": [
    "#Considering the Indian data for BMI as:-\n",
    "#CATEGORY\tBMI RANGE kg/m2\n",
    "#Underweight\t<18.5\n",
    "#Normal Weight\t18.5 - 24.9\n",
    "#Overweight\t25 - 29.9\n",
    "#Obese\t>30#\n",
    "\n",
    "n = float(input('Enter the value of BMI of the selected person : '))\n",
    "\n",
    "if n < 18.5:\n",
    "    print('The person is underweight')\n",
    "elif 18.5<=n<=24.9:\n",
    "    print('The person has normal weight')\n",
    "elif 25<=n<=29.9:\n",
    "    print('The person is overweight')\n",
    "else:\n",
    "    print('The person is OBESE')"
   ]
  },
  {
   "cell_type": "code",
   "execution_count": 8,
   "id": "4bccfb0a-656b-4520-9779-4d0282c89708",
   "metadata": {},
   "outputs": [
    {
     "name": "stdin",
     "output_type": "stream",
     "text": [
      "Enter the number as desired by the user :  -90\n"
     ]
    },
    {
     "name": "stdout",
     "output_type": "stream",
     "text": [
      "Negative Number\n"
     ]
    }
   ],
   "source": [
    "n = int(input('Enter the number as desired by the user : '))\n",
    "\n",
    "if n>0:\n",
    "    print('Positive Number')\n",
    "elif n==0:\n",
    "    print('Number is 0')\n",
    "else:\n",
    "    print('Negative Number')"
   ]
  },
  {
   "cell_type": "code",
   "execution_count": 13,
   "id": "3eb5beef-c41a-4f71-8cf7-e8578729272f",
   "metadata": {},
   "outputs": [
    {
     "name": "stdin",
     "output_type": "stream",
     "text": [
      "Enter the character of your choice :  @\n"
     ]
    },
    {
     "name": "stdout",
     "output_type": "stream",
     "text": [
      "It is a Special Character\n"
     ]
    }
   ],
   "source": [
    "c = input('Enter the character of your choice : ')\n",
    "\n",
    "if len(c)==1:\n",
    "    if c.isupper():\n",
    "        print('It is an Uppercase letter')\n",
    "    elif c.islower():\n",
    "        print('It is an Lowercase letter')\n",
    "    elif c.isdigit():\n",
    "        print('Invalid Input : Number detected')\n",
    "    else:\n",
    "        print('It is a Special Character')\n",
    "        \n",
    "else:\n",
    "    print('Charatcer length has exceeded the set limit')"
   ]
  },
  {
   "cell_type": "code",
   "execution_count": 17,
   "id": "571fcb8d-bf6d-4b29-8460-42d31a4d0f3b",
   "metadata": {},
   "outputs": [
    {
     "name": "stdin",
     "output_type": "stream",
     "text": [
      "Enter the amount of purchase of the user :  50001\n"
     ]
    },
    {
     "name": "stdout",
     "output_type": "stream",
     "text": [
      "The discount being offered is 40%\n",
      "The new discounted price is :  30000.6\n"
     ]
    }
   ],
   "source": [
    "n = float(input('Enter the amount of purchase of the user : '))\n",
    "\n",
    "if 1000.0<=n<=10000.0:\n",
    "    print('The discount offered is 10%')\n",
    "    print('The new discounted price is : ', (n - (n*0.10)))\n",
    "elif 10001.0<=n<=25000.0:\n",
    "    print('The discount being offered is 25%')\n",
    "    print('The new discounted price is : ', (n-(n*0.25)))\n",
    "elif 25001.0<=n<=50000.0:\n",
    "          print('The discount being offered is 35%')\n",
    "          print('The new discounted price is : ', (n-(n*0.35)))\n",
    "else:\n",
    "          print('The discount being offered is 40%')\n",
    "          print('The new discounted price is : ', (n-(n*0.40)))"
   ]
  },
  {
   "cell_type": "code",
   "execution_count": 3,
   "id": "ca607b58-cc9c-4d08-b3f4-44a2101b83fa",
   "metadata": {},
   "outputs": [
    {
     "name": "stdout",
     "output_type": "stream",
     "text": [
      "The rate of electricty bill per KiloWatt is $5. If it exceeds 1000 KiloWatt then per unit bill is $3. Above 10000 KiloWatt, the per unit bill is $2.5Please enter your electricity bill below : \n"
     ]
    },
    {
     "name": "stdin",
     "output_type": "stream",
     "text": [
      " 131242.2532523\n"
     ]
    },
    {
     "name": "stdout",
     "output_type": "stream",
     "text": [
      "Your electricty bill for the month is : $ 328105.63313075\n"
     ]
    }
   ],
   "source": [
    "print('The rate of electricty bill per KiloWatt is $5. If it exceeds 1000 KiloWatt then per unit bill is $3. Above 10000 KiloWatt, the per unit bill is $2.5' 'Please enter your electricity bill below : ')\n",
    "n = float(input())\n",
    "if n<=1000.0:\n",
    "    print('Your electricity bill for the month is : $',(n*5))\n",
    "elif 1001.0<=n<=10000:\n",
    "    print('Your electricity bill for the month is : $',(n*3))\n",
    "else:\n",
    "    print('Your electricty bill for the month is : $',(n*2.5))"
   ]
  },
  {
   "cell_type": "code",
   "execution_count": 8,
   "id": "4c371d68-f99d-4d52-825a-6c08734d9f44",
   "metadata": {},
   "outputs": [
    {
     "name": "stdout",
     "output_type": "stream",
     "text": [
      "Enter the angles of the quadrilateral :- \n"
     ]
    },
    {
     "name": "stdin",
     "output_type": "stream",
     "text": [
      "Enter the first angle of the quadrilateral :  110\n",
      "Enter the second angle of the quadrilateral :  80\n",
      "Enter the third angle of the quadrilateral :  75\n",
      "Enter the fourth angle of the quadrilateral :  95\n"
     ]
    },
    {
     "name": "stdout",
     "output_type": "stream",
     "text": [
      "Enter the length of the sides of the quadrilateral :- \n"
     ]
    },
    {
     "name": "stdin",
     "output_type": "stream",
     "text": [
      "Enter the first side of the quadrilateral :  9\n",
      "Enter the second side of the quadrilateral :  5\n",
      "Enter the third side of the quadrilateral :  3\n",
      "Enter the fourth side of the quadrilateral :  5\n",
      "Enter the coordinates of the 1st vertice (x1,y1) :  1 1\n",
      "Enter the coordinates of the 2nd vertice (x2,y2) :  10 1\n",
      "Enter the coordinates of the 3rd vertice (x3,y3) :  7 5\n",
      "Enter the coordinates of the 4th vertice (x4,y4) :  4 5\n"
     ]
    },
    {
     "name": "stdout",
     "output_type": "stream",
     "text": [
      "It is a trapezoid\n"
     ]
    }
   ],
   "source": [
    "print('Enter the angles of the quadrilateral :- ')\n",
    "a1 = int(input('Enter the first angle of the quadrilateral : '))\n",
    "a2 = int(input('Enter the second angle of the quadrilateral : '))\n",
    "a3 = int(input('Enter the third angle of the quadrilateral : '))\n",
    "a4 = int(input('Enter the fourth angle of the quadrilateral : '))\n",
    "\n",
    "print('Enter the length of the sides of the quadrilateral :- ')\n",
    "side1 = int(input('Enter the first side of the quadrilateral : '))\n",
    "side2 = int(input('Enter the second side of the quadrilateral : '))\n",
    "side3 = int(input('Enter the third side of the quadrilateral : '))\n",
    "side4 = int(input('Enter the fourth side of the quadrilateral : '))\n",
    "\n",
    "\n",
    "if ((a1+a2+a3+a4)==360):\n",
    "    if a1==90 and a2==90 and a3==90 and a4==90 and side1==side2==side3==side4:\n",
    "        print('It is a Square')\n",
    "    elif a1==90 and a2==90 and a3==90 and a4==90 :\n",
    "        print('It is a Rectangle')\n",
    "    elif side1==side2==side3==side4:\n",
    "        print('It is a Rhombus')\n",
    "    elif side1==side3 and side2==side4 and a1==a3 and a2==a4:\n",
    "        print('It is a parallelogram')\n",
    "    elif side1!=side2!=side3!=side4:\n",
    "        try:\n",
    "            x1,y1 = map(float, input('Enter the coordinates of the 1st vertice (x1,y1) : ').split())\n",
    "            x2,y2 = map(float, input('Enter the coordinates of the 2nd vertice (x2,y2) : ').split())\n",
    "            x3,y3 = map(float, input('Enter the coordinates of the 3rd vertice (x3,y3) : ').split())\n",
    "            x4,y4 =  map(float, input('Enter the coordinates of the 4th vertice (x4,y4) : ').split())\n",
    "            \n",
    "            s1 = (y2 -y1)/(x2 - x1)\n",
    "            s2 = (y3 - y2)/(x3 - x2)\n",
    "            s3 = (y4 - y3)/(x4 - x3)\n",
    "            s4 = (y1 - y4)/(x1 - x4)\n",
    "            \n",
    "            if (s1==s3 and s2!=s4) or (s1!=s3 and s2==s4):\n",
    "                print('It is a trapezoid')\n",
    "                \n",
    "        except ValueError:\n",
    "                print('Enter valid coordinates of the vertex of the quadrilateral.')\n",
    "        except ZeroDivisionError:\n",
    "                print('The coordinates of the vertex of the quadrilateral should not result in a zero division error.')\n",
    "    else :\n",
    "        print('It is some generic quadrilateral.')\n",
    "            \n",
    "            \n",
    "        \n",
    "        "
   ]
  },
  {
   "cell_type": "code",
   "execution_count": 15,
   "id": "bab84e9e-b6b3-4901-beea-70c6bdd72b8d",
   "metadata": {},
   "outputs": [
    {
     "name": "stdin",
     "output_type": "stream",
     "text": [
      "Enter the name of the month :  May\n"
     ]
    },
    {
     "name": "stdout",
     "output_type": "stream",
     "text": [
      "Sunny Summer\n"
     ]
    }
   ],
   "source": [
    "dict = {'January' : 'High Winter' ,'February' : 'Winter Retreat','March':'Spring Inbound','April':'Fresh Warm Winds','May':'Sunny Summer','June' : 'Fading Heat Waves','July' :'The Relief of Life','August':'Revival of Spirit','September':'Fall Time','October':'Nostalgia of Life','November':'Low Winter','December':'Darkwinter'}\n",
    "\n",
    "n = str(input('Enter the name of the month : '))\n",
    "\n",
    "for key,value in dict.items():\n",
    "    if key == 'January' :\n",
    "        if n == key :\n",
    "            print(value)\n",
    "    elif key == 'February':\n",
    "        if n == key:\n",
    "            print(value)\n",
    "    elif key == 'March':\n",
    "        if n == key:\n",
    "            print(value)\n",
    "    elif key == 'April':\n",
    "        if n== key:\n",
    "            print(value)\n",
    "    elif key =='May':\n",
    "        if n==key:\n",
    "            print(value)\n",
    "    elif key == 'June':\n",
    "        if n== key:\n",
    "            print(value)\n",
    "    elif key == 'July':\n",
    "        if n==key:\n",
    "            print(value)\n",
    "    elif key == 'August':\n",
    "        if n==key:\n",
    "            print(value)\n",
    "    elif key == 'September':\n",
    "        if n==key:\n",
    "            print(value)\n",
    "    elif key == 'October':\n",
    "        if n==key:\n",
    "            print(value)\n",
    "    elif key == 'November':\n",
    "        if n==key:\n",
    "            print(value)\n",
    "    elif key == 'December':\n",
    "        if n==key:\n",
    "            print(value)\n",
    "    else:\n",
    "        print(\"Input Month doesn't exist in the Time Table\")\n",
    "\n",
    "\n",
    "\n",
    "\n"
   ]
  },
  {
   "cell_type": "code",
   "execution_count": 4,
   "id": "db11b633-ec69-491a-9fb1-bc1f593b8f5c",
   "metadata": {},
   "outputs": [
    {
     "name": "stdin",
     "output_type": "stream",
     "text": [
      "Enter the year :  2001\n"
     ]
    },
    {
     "name": "stdout",
     "output_type": "stream",
     "text": [
      "2001 is a Common Year\n",
      "Enter the month as desired by the user to know about the total days : \n"
     ]
    },
    {
     "name": "stdin",
     "output_type": "stream",
     "text": [
      " August\n"
     ]
    },
    {
     "name": "stdout",
     "output_type": "stream",
     "text": [
      "31\n"
     ]
    }
   ],
   "source": [
    "dict1 = {'January' : 31,'February' : 28,'March':31,'April':30,'May': 31,'June' : 30,'July':31,'August':31,'September':30,'October':31,'November':30,'December':31}\n",
    "\n",
    "n = int(input('Enter the year : '))\n",
    "\n",
    "if (n%4==0 and n%100!=0)or(n%400==0):\n",
    "    print(f'{n} is a Leap Year')\n",
    "    print('Enter the month as desired by the user to know about the total days : ')\n",
    "    m = str(input())\n",
    "    for key,value in dict1.items():\n",
    "        if key == 'January' :\n",
    "            if m == key :\n",
    "                print(value)\n",
    "        elif key == 'February':\n",
    "            if m == key:\n",
    "                print(value+1)\n",
    "        elif key == 'March':\n",
    "            if m == key:\n",
    "                print(value)\n",
    "        elif key == 'April':\n",
    "            if m== key:\n",
    "                print(value)\n",
    "        elif key =='May':\n",
    "            if m==key:\n",
    "                print(value)\n",
    "        elif key == 'June':\n",
    "            if m== key:\n",
    "                print(value)\n",
    "        elif key == 'July':\n",
    "            if m==key:\n",
    "                print(value)\n",
    "        elif key == 'August':\n",
    "            if m==key:\n",
    "                print(value)\n",
    "        elif key == 'September':\n",
    "            if m==key:\n",
    "                print(value)\n",
    "        elif key == 'October':\n",
    "            if m==key:\n",
    "                print(value)\n",
    "        elif key == 'November':\n",
    "            if m==key:\n",
    "                print(value)\n",
    "        elif key == 'December':\n",
    "            if m==key:\n",
    "                print(value)\n",
    "        else:\n",
    "            print(\"Input Month doesn't exist in the Time Table\")\n",
    "        \n",
    "else:\n",
    "    print(f'{n} is a Common Year')\n",
    "    print('Enter the month as desired by the user to know about the total days : ')\n",
    "    m = str(input())\n",
    "    for key,value in dict1.items():\n",
    "        if key == 'January' :\n",
    "            if m == key :\n",
    "                print(value)\n",
    "        elif key == 'February':\n",
    "            if m == key:\n",
    "                print(value)\n",
    "        elif key == 'March':\n",
    "            if m == key:\n",
    "                print(value)\n",
    "        elif key == 'April':\n",
    "            if m== key:\n",
    "                print(value)\n",
    "        elif key =='May':\n",
    "            if m==key:\n",
    "                print(value)\n",
    "        elif key == 'June':\n",
    "            if m== key:\n",
    "                print(value)\n",
    "        elif key == 'July':\n",
    "            if m==key:\n",
    "                print(value)\n",
    "        elif key == 'August':\n",
    "            if m==key:\n",
    "                print(value)\n",
    "        elif key == 'September':\n",
    "            if m==key:\n",
    "                print(value)\n",
    "        elif key == 'October':\n",
    "            if m==key:\n",
    "                print(value)\n",
    "        elif key == 'November':\n",
    "            if m==key:\n",
    "                print(value)\n",
    "        elif key == 'December':\n",
    "            if m==key:\n",
    "                print(value)\n",
    "        else:\n",
    "            print(\"Input Month doesn't exist in the Time Table\")\n",
    "    \n",
    "    \n"
   ]
  },
  {
   "cell_type": "markdown",
   "id": "2126d1e9-d821-4524-afef-463cc885273b",
   "metadata": {},
   "source": [
    "Basic Level:"
   ]
  },
  {
   "cell_type": "code",
   "execution_count": 8,
   "id": "f6932ebd-d06d-4672-8ef1-6689ac964fd0",
   "metadata": {},
   "outputs": [
    {
     "name": "stdin",
     "output_type": "stream",
     "text": [
      "Enter the number to be checked by the user :  -89\n"
     ]
    },
    {
     "data": {
      "text/plain": [
       "'n is negative'"
      ]
     },
     "execution_count": 8,
     "metadata": {},
     "output_type": "execute_result"
    }
   ],
   "source": [
    "def checkposneg(n):\n",
    "    if n>0:\n",
    "        return 'n is positive'\n",
    "    elif n==0:\n",
    "        return 'n is zero'\n",
    "    else:\n",
    "        return 'n is negative'\n",
    "    \n",
    "\n",
    "n = int(input('Enter the number to be checked by the user : '))\n",
    "c = checkposneg(n)\n",
    "c\n",
    "    "
   ]
  },
  {
   "cell_type": "code",
   "execution_count": 10,
   "id": "c773c5d8-c995-47cc-91c4-a973d3cac442",
   "metadata": {},
   "outputs": [
    {
     "name": "stdin",
     "output_type": "stream",
     "text": [
      "Enter the age of the Individual :  34\n"
     ]
    },
    {
     "data": {
      "text/plain": [
       "'Individual is eligibl to vote'"
      ]
     },
     "execution_count": 10,
     "metadata": {},
     "output_type": "execute_result"
    }
   ],
   "source": [
    "def eligibility(n):\n",
    "    if n>18:\n",
    "        return 'Individual is eligibl to vote'\n",
    "    else:\n",
    "        return 'Individual is not eligible to vote'\n",
    "    \n",
    "n = int(input('Enter the age of the Individual : '))\n",
    "c = eligibility(n)\n",
    "c"
   ]
  },
  {
   "cell_type": "code",
   "execution_count": 11,
   "id": "a5875f2e-e0bf-456b-867c-b2af0a6c8fa1",
   "metadata": {},
   "outputs": [
    {
     "name": "stdin",
     "output_type": "stream",
     "text": [
      "Enter the first number :  23\n",
      "Enter the second number :  45\n"
     ]
    },
    {
     "data": {
      "text/plain": [
       "'\"b\" is greater than \"a\"'"
      ]
     },
     "execution_count": 11,
     "metadata": {},
     "output_type": "execute_result"
    }
   ],
   "source": [
    "def checkgreat(a,b):\n",
    "    if a>b:\n",
    "        return '\"a\" is greater than \"b\"'\n",
    "    else:\n",
    "        return '\"b\" is greater than \"a\"'\n",
    "    \n",
    "a = int(input('Enter the first number : '))\n",
    "b = int(input('Enter the second number : '))\n",
    "c = checkgreat(a,b)\n",
    "c"
   ]
  },
  {
   "cell_type": "code",
   "execution_count": 13,
   "id": "a435906e-baef-484d-b107-7c4aebd9da4b",
   "metadata": {},
   "outputs": [
    {
     "name": "stdin",
     "output_type": "stream",
     "text": [
      "Enter the marks of the candidate 75\n"
     ]
    },
    {
     "data": {
      "text/plain": [
       "'Grade B'"
      ]
     },
     "execution_count": 13,
     "metadata": {},
     "output_type": "execute_result"
    }
   ],
   "source": [
    "def resultofschool(n):\n",
    "    if 80<=n<=100:\n",
    "        return 'Grade A'\n",
    "    elif 60<=n<=79:\n",
    "        return 'Grade B'\n",
    "    elif 40<=n<=59:\n",
    "        return 'Grade C'\n",
    "    else:\n",
    "        return 'Candidate has failed.'\n",
    "    \n",
    "    \n",
    "n = int(input('Enter the marks of the candidate'))\n",
    "c = resultofschool(n)\n",
    "c\n",
    "    \n",
    "    \n",
    "    \n",
    "    \n",
    "    "
   ]
  },
  {
   "cell_type": "code",
   "execution_count": 14,
   "id": "7dedb8ce-ae50-4479-a9cf-cbb353f1e84e",
   "metadata": {},
   "outputs": [
    {
     "name": "stdin",
     "output_type": "stream",
     "text": [
      "Enter the Year to be checked :| 2000\n"
     ]
    },
    {
     "data": {
      "text/plain": [
       "'It is a Leap Year :) '"
      ]
     },
     "execution_count": 14,
     "metadata": {},
     "output_type": "execute_result"
    }
   ],
   "source": [
    " def checkyear(y):\n",
    "        if (y%4==0 and y%100!=0) or (y%400==0):\n",
    "            return 'It is a Leap Year :) '\n",
    "        else:\n",
    "            return 'It is not a Leap Year :('\n",
    "        \n",
    "y = int(input('Enter the Year to be checked :|'))\n",
    "c = checkyear(y)\n",
    "c"
   ]
  },
  {
   "cell_type": "code",
   "execution_count": 15,
   "id": "ccb8a37c-abfa-4659-b44b-4950b0e9cabd",
   "metadata": {},
   "outputs": [
    {
     "name": "stdout",
     "output_type": "stream",
     "text": [
      "Please enter the sides of the Triangle : \n"
     ]
    },
    {
     "name": "stdin",
     "output_type": "stream",
     "text": [
      "Enter the length of the first side of the Triangle :  23\n",
      "Enter the length of the second side of the Triangle :  45\n",
      "Enter the length of the third side of the Trianhle :  89\n"
     ]
    },
    {
     "name": "stdout",
     "output_type": "stream",
     "text": [
      "It is a Scalene Triangle\n"
     ]
    }
   ],
   "source": [
    "print('Please enter the sides of the Triangle : ')\n",
    "a = int(input('Enter the length of the first side of the Triangle : '))\n",
    "b = int(input('Enter the length of the second side of the Triangle : '))\n",
    "c = int(input('Enter the length of the third side of the Trianhle : '))\n",
    "\n",
    "if a==b==c:\n",
    "    print('It is an Equilateral Triangle')\n",
    "elif a==b or b==c or c==a:\n",
    "    print('It is an Isosceles Triangle')\n",
    "else:\n",
    "    print('It is a Scalene Triangle')\n",
    "    \n"
   ]
  },
  {
   "cell_type": "code",
   "execution_count": 24,
   "id": "f29c5d39-d506-48bf-bcdf-db7267eee1e6",
   "metadata": {},
   "outputs": [
    {
     "name": "stdin",
     "output_type": "stream",
     "text": [
      "Enter the three numbers for comparison purpose 100 43 56\n"
     ]
    },
    {
     "data": {
      "text/plain": [
       "'\"a\" is the greatest'"
      ]
     },
     "execution_count": 24,
     "metadata": {},
     "output_type": "execute_result"
    }
   ],
   "source": [
    "def checkgreat2(a,b,c):\n",
    "    if int(a)>int(b) and int(a)>int(c):\n",
    "        return  '\"a\" is the greatest'\n",
    "    elif int(b)>int(c):\n",
    "        return ' \"b\" is the greatest'\n",
    "    else:\n",
    "        return ' \"c\" is the greatest'\n",
    "    \n",
    "a,b,c = str(input('Enter the three numbers for comparison purpose')).split( )\n",
    "D = checkgreat2(a,b,c)\n",
    "D"
   ]
  },
  {
   "cell_type": "code",
   "execution_count": 25,
   "id": "23a51375-1637-44d9-9d87-fcb91c42a80c",
   "metadata": {},
   "outputs": [
    {
     "name": "stdin",
     "output_type": "stream",
     "text": [
      "Enter the character of your desire :  b\n"
     ]
    },
    {
     "data": {
      "text/plain": [
       "'It is a Consonant'"
      ]
     },
     "execution_count": 25,
     "metadata": {},
     "output_type": "execute_result"
    }
   ],
   "source": [
    "def checkcharac(c):\n",
    "    vowels  = 'aeiouAEIOU'\n",
    "    for char in vowels:\n",
    "        if c==char:\n",
    "            return 'It is a Vowel'\n",
    "        else:\n",
    "            return 'It is a Consonant'\n",
    "        \n",
    "c = input('Enter the character of your desire : ')\n",
    "nc = checkcharac(c)\n",
    "nc"
   ]
  },
  {
   "cell_type": "code",
   "execution_count": 31,
   "id": "4e6c87e8-b90d-44e0-8204-f92a72c13232",
   "metadata": {},
   "outputs": [
    {
     "name": "stdout",
     "output_type": "stream",
     "text": [
      "Following is the discount and the final prices offered on your shopping cart based on purchase volume in monetary terms.\n"
     ]
    },
    {
     "name": "stdin",
     "output_type": "stream",
     "text": [
      "Enter the purchase amount :  9999\n"
     ]
    },
    {
     "name": "stdout",
     "output_type": "stream",
     "text": [
      "The discount offered is :  10%\n",
      "The discounted purchase amount is :  8999.1\n"
     ]
    }
   ],
   "source": [
    "print('Following is the discount and the final prices offered on your shopping cart based on purchase volume in monetary terms.')\n",
    "n = int(input('Enter the purchase amount : '))\n",
    "if 1000<=n<=10000:\n",
    "    print('The discount offered is : ', '10%')\n",
    "    print('The discounted purchase amount is : ', (n-(n*0.10)))\n",
    "elif 10001<=n<=35000:\n",
    "    print('The discount offered is : ', '15%')\n",
    "    print('The discounted purchase amount is : ', (n-(n*0.15)))\n",
    "elif n>35000:\n",
    "    print ('The discount offered is : ', '25%')\n",
    "    print('The discounted purchase amount is : ', (n-(n*0.25)))\n",
    "else:\n",
    "    print('The amount is below the privileges of being discounted')\n",
    "    \n",
    "    "
   ]
  },
  {
   "cell_type": "code",
   "execution_count": 32,
   "id": "7d81a989-d9b5-449e-b7b5-1922e19bd983",
   "metadata": {},
   "outputs": [
    {
     "name": "stdin",
     "output_type": "stream",
     "text": [
      "Enter the number of your desire :  7\n"
     ]
    },
    {
     "data": {
      "text/plain": [
       "'The number is Odd'"
      ]
     },
     "execution_count": 32,
     "metadata": {},
     "output_type": "execute_result"
    }
   ],
   "source": [
    "def checkeveodd(n):\n",
    "    if n%2==0:\n",
    "        return 'The number is Even'\n",
    "    else:\n",
    "        return 'The number is Odd'\n",
    "    \n",
    "n = int(input('Enter the number of your desire : '))\n",
    "c = checkeveodd(n)\n",
    "c"
   ]
  },
  {
   "cell_type": "markdown",
   "id": "c7dcb801-3e58-4bae-9793-a9cb76fedf0a",
   "metadata": {},
   "source": [
    "Intermediate Level:"
   ]
  },
  {
   "cell_type": "code",
   "execution_count": 1,
   "id": "efd8f326-679c-4a29-b3d7-bf3e37eed1ba",
   "metadata": {},
   "outputs": [
    {
     "name": "stdin",
     "output_type": "stream",
     "text": [
      "Enter the value of the coefficient \"a\" :  3\n",
      "Enter the value of the coefficient \"b\" :  4\n",
      "Enter the value of the coefficient \"c\" :  5\n"
     ]
    },
    {
     "name": "stdout",
     "output_type": "stream",
     "text": [
      "First root is :  (-0.6666666666666666+1.1055415967851332j)\n",
      "Second root is :  (-0.6666666666666666-1.1055415967851332j)\n"
     ]
    }
   ],
   "source": [
    "import math\n",
    "\n",
    "a = int(input('Enter the value of the coefficient \"a\" : '))\n",
    "b = int(input('Enter the value of the coefficient \"b\" : '))\n",
    "c = int(input('Enter the value of the coefficient \"c\" : '))\n",
    "\n",
    "dis = b**2 - 4*a*c\n",
    "\n",
    "if dis > 0:\n",
    "    x1 = ((-b) + dis)/(2*a)\n",
    "    x2 = ((-b) - dis)/(2*a)\n",
    "    print('The first root is : ', x1)\n",
    "    print('The second root is : ', x2)\n",
    "elif dis == 0:\n",
    "    x = (-b)/(2*a)\n",
    "    print('The root of the equation is : ',x)\n",
    "else:\n",
    "    xreal = (-b)/(2*a)\n",
    "    ximaginary = math.sqrt(abs(dis))/(2*a)\n",
    "    print('First root is : ', complex(xreal, ximaginary))\n",
    "    print('Second root is : ', complex(xreal, -ximaginary))"
   ]
  },
  {
   "cell_type": "code",
   "execution_count": 2,
   "id": "8ce82370-18df-4801-a257-4fa51363deb7",
   "metadata": {},
   "outputs": [
    {
     "name": "stdin",
     "output_type": "stream",
     "text": [
      "Enter the number between 1 and 7 as desired by the user :  4\n"
     ]
    },
    {
     "name": "stdout",
     "output_type": "stream",
     "text": [
      "Thursday\n"
     ]
    }
   ],
   "source": [
    "dict = {1:'Monday',2:'Tuesday',3:'Wednesday',4:'Thursday',5:'Friday',6:'Saturday',7:'Sunday'}\n",
    "\n",
    "n = int(input('Enter the number between 1 and 7 as desired by the user : '))\n",
    "\n",
    "for key,value in dict.items():\n",
    "    if key == 1 :\n",
    "        if n == key :\n",
    "            print(value)\n",
    "    elif key == 2:\n",
    "        if n == 2:\n",
    "            print(value)\n",
    "    elif key == 3:\n",
    "        if n == key:\n",
    "            print(value)\n",
    "    elif key == 4:\n",
    "        if n== key:\n",
    "            print(value)\n",
    "    elif key == 5 :\n",
    "        if n==key:\n",
    "            print(value)\n",
    "    elif key == 6 :\n",
    "        if n== key:\n",
    "            print(value)\n",
    "    elif key == 7 :\n",
    "        if n==key:\n",
    "            print(value)\n",
    "if n<1 or n>7:\n",
    "     print('Out of the bounds error')\n",
    "            \n",
    "\n",
    "\n"
   ]
  },
  {
   "cell_type": "code",
   "execution_count": 3,
   "id": "bf1866d2-f48b-4221-bd58-2d76c86fa9e2",
   "metadata": {},
   "outputs": [
    {
     "name": "stdin",
     "output_type": "stream",
     "text": [
      "Enter the number as desired by the user :  23\n"
     ]
    },
    {
     "name": "stdout",
     "output_type": "stream",
     "text": [
      "Factorial of 23 is 25852016738884976640000\n"
     ]
    }
   ],
   "source": [
    "def fac(n):\n",
    "    if n == 0 or n == 1:\n",
    "        return 1\n",
    "    else:\n",
    "        return n*fac(n-1)\n",
    "\n",
    "\n",
    "\n",
    "\n",
    "n = int(input('Enter the number as desired by the user : '))\n",
    "\n",
    "if n<0:\n",
    "    print('Factorial is not defined for negative numbers')\n",
    "elif n == 0:\n",
    "    print('Factorial of Zero is 1')\n",
    "else:\n",
    "    res = fac(n)\n",
    "    print(f'Factorial of {n} is {res}')"
   ]
  },
  {
   "cell_type": "code",
   "execution_count": 4,
   "id": "ae40ab62-192b-4273-b51b-987dceb5f58d",
   "metadata": {},
   "outputs": [
    {
     "name": "stdin",
     "output_type": "stream",
     "text": [
      "Enter the first number :  43\n",
      "Enter the second number :  54\n",
      "Enter the third  number :  67\n"
     ]
    },
    {
     "name": "stdout",
     "output_type": "stream",
     "text": [
      "THe largest is  67\n"
     ]
    }
   ],
   "source": [
    "a = int(input('Enter the first number : '))\n",
    "b = int(input('Enter the second number : '))\n",
    "c = int(input('Enter the third  number : '))\n",
    "\n",
    "if a > b and a > c:\n",
    "    print('The largest is : ', a)\n",
    "elif b > c:\n",
    "    print('The largest is : ', b)\n",
    "else:\n",
    "    print('THe largest is ', c)"
   ]
  },
  {
   "cell_type": "code",
   "execution_count": 6,
   "id": "2014f2fe-1c81-4664-9808-168f5813fd3e",
   "metadata": {},
   "outputs": [
    {
     "name": "stdout",
     "output_type": "stream",
     "text": [
      "Enter the current balance amount : \n"
     ]
    },
    {
     "name": "stdin",
     "output_type": "stream",
     "text": [
      " 3000000.243535\n"
     ]
    },
    {
     "name": "stdout",
     "output_type": "stream",
     "text": [
      "For checking your current balance, Press 1\n",
      "For depositing amount, Press 2\n",
      "For withdrawal of funds, Press 3\n",
      "For Quitting, Press 4\n"
     ]
    },
    {
     "name": "stdin",
     "output_type": "stream",
     "text": [
      "Enter your choice :  3\n",
      "Enter the amount to be withdrawn by the user :  239329\n"
     ]
    },
    {
     "name": "stdout",
     "output_type": "stream",
     "text": [
      "Amount has been withdrawn successfully\n",
      "Your balance amount is  2760671.24\n",
      "For checking your current balance, Press 1\n",
      "For depositing amount, Press 2\n",
      "For withdrawal of funds, Press 3\n",
      "For Quitting, Press 4\n"
     ]
    },
    {
     "name": "stdin",
     "output_type": "stream",
     "text": [
      "Enter your choice :  4\n"
     ]
    },
    {
     "name": "stdout",
     "output_type": "stream",
     "text": [
      "Thank you, We hope we were able to serve you.\n"
     ]
    }
   ],
   "source": [
    "print('Enter the current balance amount : ')\n",
    "balance = float(input())\n",
    "\n",
    "def disb():\n",
    "    print(f'Your balance amount is {balance : .2f}')\n",
    "    \n",
    "def depo():\n",
    "    global balance\n",
    "    amount = float(input('Enter the amount to be deposited : '))\n",
    "    if amount < 500.0:\n",
    "        balance = balance + amount\n",
    "        print('Amount has been deposited successfully')\n",
    "        m = disb()\n",
    "        m\n",
    "    else:\n",
    "        print('Please enter an amount more than 500')\n",
    "\n",
    "def withr():\n",
    "    global balance\n",
    "    amount = float(input('Enter the amount to be withdrawn by the user : '))\n",
    "    if amount > 0 and amount <= balance:\n",
    "        balance = balance - amount\n",
    "        print('Amount has been withdrawn successfully')\n",
    "        x = disb()\n",
    "        x\n",
    "    else:\n",
    "        print('Amount to be withdrawn has exceeded the bank balance.')\n",
    "        \n",
    "while True:\n",
    "    print('For checking your current balance, Press 1')\n",
    "    print('For depositing amount, Press 2')\n",
    "    print('For withdrawal of funds, Press 3')\n",
    "    print('For Quitting, Press 4')\n",
    "    \n",
    "    \n",
    "    a = int(input('Enter your choice : '))\n",
    "    \n",
    "    if a==1:\n",
    "        disb()\n",
    "    elif a ==2:\n",
    "        depo()\n",
    "    elif a==3:\n",
    "        withr()\n",
    "    elif a==4:\n",
    "        print('Thank you, We hope we were able to serve you.')\n",
    "        break\n",
    "    else:\n",
    "        print('Wrong Option Entry')"
   ]
  },
  {
   "cell_type": "code",
   "execution_count": 7,
   "id": "c29305ee-565a-4abe-acb3-5e0a3df3537d",
   "metadata": {},
   "outputs": [
    {
     "name": "stdin",
     "output_type": "stream",
     "text": [
      "Enter the string of your choice Fullo\n"
     ]
    },
    {
     "name": "stdout",
     "output_type": "stream",
     "text": [
      "Fullo is not palindromic in nature\n"
     ]
    }
   ],
   "source": [
    "def checkpal(s):\n",
    "    if s == s[::-1]:\n",
    "        return True\n",
    "    else:\n",
    "        return False\n",
    "    \n",
    "\n",
    "\n",
    "\n",
    "s = str(input('Enter the string of your choice'))\n",
    "c =  checkpal(s)\n",
    "if c :\n",
    "    print(f'{s} is palindromic in nature')\n",
    "else:\n",
    "    print(f'{s} is not palindromic in nature')\n"
   ]
  },
  {
   "cell_type": "code",
   "execution_count": 14,
   "id": "f4c8f19d-e050-4991-8443-f7b95dbd82f1",
   "metadata": {},
   "outputs": [
    {
     "name": "stdin",
     "output_type": "stream",
     "text": [
      "Enter the numbers of your choice separated by comma :  23,45,6,7,89,09,87,65,43\n"
     ]
    },
    {
     "name": "stdout",
     "output_type": "stream",
     "text": [
      "[23, 45, 6, 7, 89, 9, 87, 65, 43]\n",
      "The average of the numbers in the list excluding the smallest and the largest numbers is :  39.857142857142854\n"
     ]
    }
   ],
   "source": [
    "def aveg(n):\n",
    "    \n",
    "    n.remove(max(n))\n",
    "    n.remove(min(n))\n",
    "    \n",
    "    t = sum(n)\n",
    "    \n",
    "    average = t/len(n)\n",
    "    \n",
    "    return average\n",
    "\n",
    "\n",
    "\n",
    "\n",
    "s = input('Enter the numbers of your choice separated by comma : ').split(',')\n",
    "n = [int(x) for x in s]\n",
    "print(n)\n",
    "\n",
    "c = aveg(n)\n",
    "\n",
    "print('The average of the numbers in the list excluding the smallest and the largest numbers is : ', c)"
   ]
  },
  {
   "cell_type": "code",
   "execution_count": 16,
   "id": "4c8c2e65-c8c6-4a60-ab4a-dde11e29a651",
   "metadata": {},
   "outputs": [
    {
     "name": "stdin",
     "output_type": "stream",
     "text": [
      "Enter the temperature in Celsius 100\n"
     ]
    },
    {
     "name": "stdout",
     "output_type": "stream",
     "text": [
      "The converted temperature is :  212.0\n"
     ]
    }
   ],
   "source": [
    "def convo(c):\n",
    "    fahrn = ((cel*9)/5)+32\n",
    "    return fahrn\n",
    "\n",
    "\n",
    "\n",
    "\n",
    "cel =  float(input('Enter the temperature in Celsius'))\n",
    "farhn = convo(cel)\n",
    "print('The converted temperature is : ', farhn)"
   ]
  },
  {
   "cell_type": "code",
   "execution_count": 21,
   "id": "b781f16c-34ee-4c29-8599-c8b43d3d32c8",
   "metadata": {},
   "outputs": [
    {
     "name": "stdout",
     "output_type": "stream",
     "text": [
      "Enter \"+\" for addition\n",
      "Enter \"-\" for subtraction\n",
      "Enter \"*\" for multiplication\n",
      "Enter \"/\" for division\n",
      "Enter \"0\" to exit\n"
     ]
    },
    {
     "name": "stdin",
     "output_type": "stream",
     "text": [
      "Enter your choice :  +\n",
      "Enter the first number :  4\n",
      "Enter the second number :  5\n"
     ]
    },
    {
     "name": "stdout",
     "output_type": "stream",
     "text": [
      "9.0\n",
      "Enter \"+\" for addition\n",
      "Enter \"-\" for subtraction\n",
      "Enter \"*\" for multiplication\n",
      "Enter \"/\" for division\n",
      "Enter \"0\" to exit\n"
     ]
    },
    {
     "name": "stdin",
     "output_type": "stream",
     "text": [
      "Enter your choice :  0\n"
     ]
    }
   ],
   "source": [
    "def calc(c):\n",
    "    if c == '+':\n",
    "        a = float(input('Enter the first number : '))\n",
    "        b = float(input('Enter the second number : '))\n",
    "        return print(a+b)\n",
    "    elif c == '-':\n",
    "        a = float(input('Enter the first number : '))\n",
    "        b = float(input('Enter the second number : '))\n",
    "        return print(a-b)\n",
    "    elif c == '*':\n",
    "        a = float(input('Enter the first number : '))\n",
    "        b = float(input('Enter the second number : '))\n",
    "        return print(a*b)\n",
    "    elif c == '/':\n",
    "        a = float(input('Enter the first number : '))\n",
    "        b = float(input('Enter the second number : '))\n",
    "        return print(a/b)\n",
    "    else:\n",
    "        return 'Wrong Choice'\n",
    "    \n",
    "    \n",
    "while True:\n",
    "    print('Enter \"+\" for addition')\n",
    "    print('Enter \"-\" for subtraction')\n",
    "    print('Enter \"*\" for multiplication')\n",
    "    print('Enter \"/\" for division')\n",
    "    print('Enter \"0\" to exit')\n",
    "    \n",
    "    c = input('Enter your choice : ')\n",
    "    \n",
    "    if c == '+':\n",
    "         calc(c)\n",
    "    elif c == '-':\n",
    "         calc(c)\n",
    "    elif c == '*':\n",
    "         calc(c)\n",
    "    elif c == '/':\n",
    "         calc(c)\n",
    "    elif c == '0':\n",
    "        break\n",
    "    else:\n",
    "        print('Wrong Choice')\n",
    "    \n",
    "    \n",
    "    \n",
    "        \n",
    "    "
   ]
  },
  {
   "cell_type": "code",
   "execution_count": null,
   "id": "33f2b3ac-a497-477e-b673-70dc31fd6ddf",
   "metadata": {},
   "outputs": [],
   "source": []
  },
  {
   "cell_type": "code",
   "execution_count": null,
   "id": "3a4f63be-15f8-4260-8606-d858896f9f51",
   "metadata": {},
   "outputs": [],
   "source": []
  },
  {
   "cell_type": "markdown",
   "id": "5c30d108-abf1-4117-8d32-b24d847df317",
   "metadata": {},
   "source": [
    "Advanced Level:"
   ]
  },
  {
   "cell_type": "code",
   "execution_count": 1,
   "id": "ab3f0dbd-3c1c-43a6-9392-323e37d3dbe0",
   "metadata": {},
   "outputs": [
    {
     "name": "stdin",
     "output_type": "stream",
     "text": [
      "Enter the amount of your salary :  25000\n"
     ]
    },
    {
     "name": "stdout",
     "output_type": "stream",
     "text": [
      "Your tax is :  2500.0\n",
      "Your salary after tax is :  22500.0\n"
     ]
    }
   ],
   "source": [
    "def taxcalc(n):\n",
    "    if 10000.0<=n<=50000.0:\n",
    "        tax = n*0.1 #10% tax\n",
    "        return tax\n",
    "    elif 50001.0<=n<=100000.0:\n",
    "        tax = n*0.2\n",
    "        return tax\n",
    "    elif n>100000.0:\n",
    "        tax = n*0.3\n",
    "        return tax\n",
    "    else:\n",
    "        return 'Non-taxable amount'\n",
    "    \n",
    "n = float(input('Enter the amount of your salary : '))\n",
    "tax = taxcalc(n)\n",
    "print('Your tax is : ', tax)\n",
    "print('Your salary after tax is : ', n-tax)\n",
    "    \n"
   ]
  },
  {
   "cell_type": "code",
   "execution_count": 4,
   "id": "014c6785-76eb-47e4-998d-54273480c065",
   "metadata": {},
   "outputs": [
    {
     "name": "stdin",
     "output_type": "stream",
     "text": [
      "Enter the choice of the user :  Rock\n"
     ]
    },
    {
     "name": "stdout",
     "output_type": "stream",
     "text": [
      "User has won the game!\n"
     ]
    },
    {
     "name": "stdin",
     "output_type": "stream",
     "text": [
      "Enter the choice of the user :  Scissor\n"
     ]
    },
    {
     "name": "stdout",
     "output_type": "stream",
     "text": [
      "The User has given a wrong choice. Try again.\n"
     ]
    },
    {
     "name": "stdin",
     "output_type": "stream",
     "text": [
      "Enter the choice of the user :  Scissors\n"
     ]
    },
    {
     "name": "stdout",
     "output_type": "stream",
     "text": [
      "It's tied!!!\n"
     ]
    },
    {
     "name": "stdin",
     "output_type": "stream",
     "text": [
      "Enter the choice of the user :  Rock\n"
     ]
    },
    {
     "name": "stdout",
     "output_type": "stream",
     "text": [
      "Computer has won the game.\n"
     ]
    },
    {
     "name": "stdin",
     "output_type": "stream",
     "text": [
      "Enter the choice of the user :  Quit\n"
     ]
    },
    {
     "name": "stdout",
     "output_type": "stream",
     "text": [
      "The User has decided to quit the game.\n",
      "Thanks for playing\n"
     ]
    }
   ],
   "source": [
    "import random\n",
    "\n",
    "\n",
    "choices = ['rock','paper','scissors']\n",
    "\n",
    "def getchoice():\n",
    "    return random.choice(choices)\n",
    "\n",
    "def getresults(n,x):\n",
    "    if n==x:\n",
    "        return \"It's tied!!!\"\n",
    "    elif (n=='rock' and x=='scissors') or (n=='scissors' and x=='paper') or (n=='paper' and x=='rock'):\n",
    "        return 'User has won the game!'\n",
    "    else:\n",
    "        return 'Computer has won the game.'\n",
    "    \n",
    "    \n",
    "while True:\n",
    "    n = input('Enter the choice of the user : ').lower()\n",
    "    if n=='quit':\n",
    "        print('The User has decided to quit the game.')\n",
    "        break\n",
    "    elif n not in choices:\n",
    "        print('The User has given a wrong choice. Try again.')\n",
    "        continue\n",
    "    \n",
    "    x = getchoice()\n",
    "    \n",
    "    s = getresults(n,x)\n",
    "    \n",
    "    print(s)\n",
    "    \n",
    "print('Thanks for playing')\n",
    "\n",
    "    "
   ]
  },
  {
   "cell_type": "code",
   "execution_count": 7,
   "id": "92f33a50-9c70-4f90-91ae-1905104e6395",
   "metadata": {},
   "outputs": [
    {
     "name": "stdout",
     "output_type": "stream",
     "text": [
      "Take the characters as per the choice of the user as inputs : \n"
     ]
    },
    {
     "name": "stdin",
     "output_type": "stream",
     "text": [
      "Enter Uppercase Characters of Your Choice :  AWEUIDNCJTXFH\n",
      "Enter Lowercase Characters of Your Choice :  adcnoemkolijputyhg\n",
      "Enter the digits of your choice :  372186498632891730\n",
      "Enter the special characters of your choice :  #^(*!^#(**^%#!(&^#*\n",
      "Enter the desired length of the password :  60\n"
     ]
    },
    {
     "name": "stdout",
     "output_type": "stream",
     "text": [
      "The password of the user is :  %t#b6^38j(PtdF!1*#Snf^J&^!7SN^17y7QUzVv11h(p2J1I1TJNP16#g#iq\n"
     ]
    }
   ],
   "source": [
    "import random\n",
    "import string\n",
    "\n",
    "def getpass(uc,lc,nd,sd,l):\n",
    "    upperc = string.ascii_uppercase if uc else ''\n",
    "    lowerc = string.ascii_lowercase if lc else ''\n",
    "    numberd = string.digits if nd else ''\n",
    "    speciald = string.punctuation if sd else ''\n",
    "    \n",
    "    allc = upperc + lowerc + str(nd) + sd\n",
    "    \n",
    "    if not allc:\n",
    "        print('Error no characters has been selected for the password generation.')\n",
    "        return None\n",
    "    \n",
    "    password = ''.join(random.choice(allc) for i in range(l))\n",
    "    return password\n",
    "\n",
    "\n",
    "\n",
    "\n",
    "\n",
    "print('Take the characters as per the choice of the user as inputs : ')\n",
    "uc = input('Enter Uppercase Characters of Your Choice : ')\n",
    "lc = input('Enter Lowercase Characters of Your Choice : ')\n",
    "nd = int(input('Enter the digits of your choice : '))\n",
    "sd = input('Enter the special characters of your choice : ')\n",
    "l = int(input('Enter the desired length of the password : '))\n",
    "\n",
    "password =  getpass(uc,lc,nd,sd,l)\n",
    "print('The password of the user is : ', password)"
   ]
  },
  {
   "cell_type": "code",
   "execution_count": 10,
   "id": "628893ac-c7e6-4192-85bb-02cd8a7e3f09",
   "metadata": {},
   "outputs": [
    {
     "name": "stdout",
     "output_type": "stream",
     "text": [
      "You are a fruit seller who sees a Man approaching to you. Here are the rules of the interaction of this basic trade game : \n",
      "If option a = 1, Then you find that person rude.\n",
      "If option a is anything else, then you find that person nice.\n",
      "\n",
      "If option b = 1, Then you refuse to trade with him.'\n",
      "If option b is anything else, then you agree to trade with him.'\n",
      "\n",
      "If option c=1, then you have decided to give him apple.\n",
      "If option c=2, then you have decided to give him the pear.\n",
      "If option c is anything else, then you agree to give him both.\n",
      "\n",
      "If d = 1, then you charge him $1 for the apple and $1 for the pear.\n",
      "If d = 2, then you charge him $2 for the apple and $2 for the pear.\n",
      "If d = 3, then you charge him $1 for the apple only.\n",
      "If d = 4, then you charge him $1 for the pear only.\n",
      "If d is anything else, you give the items to him for free.\n",
      "\n",
      "If e=1, you complete your transaction for the apple only.\n",
      "If e=2, you complete your transaction for the pear only.\n",
      "If e=3, you complete your transaction for the apple and the pear.\n",
      "If e is anything else, you overcharge him.\n",
      "Enter 1 to start the game.\n"
     ]
    },
    {
     "name": "stdin",
     "output_type": "stream",
     "text": [
      " 1\n",
      "Enter your choice 1\n",
      "Enter your choice 1\n",
      "Enter your choice 3\n",
      "Enter your choice 2\n",
      "Enter your choice 4\n"
     ]
    },
    {
     "name": "stdout",
     "output_type": "stream",
     "text": [
      "You find him rude\n",
      "You agree deal with him.\n",
      "You have decided to give him both\n",
      "You have charged $2 for the apple and You have charged $2 for the pear.\n",
      "You shake his hands and wave him goodbye. You charge him a total of $4\n",
      "Thank you for playing the game.\n"
     ]
    }
   ],
   "source": [
    "import time\n",
    "\n",
    "def getchoice(a,b,c,d,e):\n",
    "    \n",
    "    if a==1:\n",
    "        time.sleep(3)\n",
    "        print('You find him rude')\n",
    "    else:\n",
    "        time.sleep(3)\n",
    "        print('You find him nice.')\n",
    "        \n",
    "    if b == 1:\n",
    "        time.sleep(2)\n",
    "        print('You agree deal with him.')\n",
    "        \n",
    "    else:\n",
    "        time.sleep(2)\n",
    "        print('You are ready to trade with him.')\n",
    "    \n",
    "    \n",
    "    if c == 1:\n",
    "        time.sleep(1)\n",
    "        print('You have decided to give him the apple.')\n",
    "    elif c == 2:\n",
    "        time.sleep(2)\n",
    "        print('You decided to give him the pear.')\n",
    "    else:\n",
    "        time.sleep(3)\n",
    "        print('You have decided to give him both')\n",
    "        \n",
    "        \n",
    "    if d == 1:\n",
    "        time.sleep(1)\n",
    "        print('You have charged $1 for the apple and You have charged $1 for the pear.')\n",
    "    elif d == 2:\n",
    "        time.sleep(1)\n",
    "        print('You have charged $2 for the apple and You have charged $2 for the pear.')\n",
    "    elif d == 3:\n",
    "        print('You have charged him $1 for the apple only.')\n",
    "    elif d == 4:\n",
    "        print('You have charged him $1 for the pear only')\n",
    "    else:\n",
    "        print('You have given him the items for free.')\n",
    "        \n",
    "        \n",
    "    \n",
    "    if e==1:\n",
    "        print('You thank him from shopping from you.You charge him a total of $1 for the apple.')\n",
    "    \n",
    "    elif e==2:\n",
    "        print('You thank him for shopping from you. You charge him a total of $1 for the pear.')\n",
    "        \n",
    "    elif e==3:\n",
    "        print('You thank him for shopping from you. You charge him a total of $2 for his entire shopping.')\n",
    "        \n",
    "    else:\n",
    "        print('You shake his hands and wave him goodbye. You charge him a total of $4')\n",
    "        \n",
    "        \n",
    "        \n",
    "print('''You are a fruit seller who sees a Man approaching to you. Here are the rules of the interaction of this basic trade game : \n",
    "If option a = 1, Then you find that person rude.\n",
    "If option a is anything else, then you find that person nice.\n",
    "\n",
    "If option b = 1, Then you refuse to trade with him.'\n",
    "If option b is anything else, then you agree to trade with him.'\n",
    "\n",
    "If option c=1, then you have decided to give him apple.\n",
    "If option c=2, then you have decided to give him the pear.\n",
    "If option c is anything else, then you agree to give him both.\n",
    "\n",
    "If d = 1, then you charge him $1 for the apple and $1 for the pear.\n",
    "If d = 2, then you charge him $2 for the apple and $2 for the pear.\n",
    "If d = 3, then you charge him $1 for the apple only.\n",
    "If d = 4, then you charge him $1 for the pear only.\n",
    "If d is anything else, you give the items to him for free.\n",
    "\n",
    "If e=1, you complete your transaction for the apple only.\n",
    "If e=2, you complete your transaction for the pear only.\n",
    "If e=3, you complete your transaction for the apple and the pear.\n",
    "If e is anything else, you overcharge him.''')\n",
    "\n",
    "print('Enter 1 to start the game.')\n",
    "\n",
    "i = int(input())\n",
    "\n",
    "if i==1:\n",
    "    a = int(input('Enter your choice'))\n",
    "    b = int(input('Enter your choice'))\n",
    "    c = int(input('Enter your choice'))\n",
    "    d = int(input('Enter your choice'))\n",
    "    e = int(input('Enter your choice'))\n",
    "    getchoice(a,b,c,d,e)\n",
    "    \n",
    "    \n",
    "else:\n",
    "    print('Not participating? Too bad.')\n",
    "    \n",
    "    \n",
    "    \n",
    "print('Thank you for playing the game.')\n",
    "    \n",
    "    \n",
    "    \n",
    "\n",
    "\n",
    "\n",
    "\n",
    "    \n",
    "\n",
    "\n",
    "    \n",
    "        \n",
    "        \n",
    "        "
   ]
  },
  {
   "cell_type": "code",
   "execution_count": 4,
   "id": "473e85f0-1b38-4fee-951b-a0e17ca1e0ea",
   "metadata": {},
   "outputs": [
    {
     "name": "stdout",
     "output_type": "stream",
     "text": [
      "This is the formula of a linear equation : ax+b = c\n",
      "To calculate the value of x, you have to provide the value for the coefficients.\n"
     ]
    },
    {
     "name": "stdin",
     "output_type": "stream",
     "text": [
      "Enter the value of coefficient \"a\" :  3\n",
      "Enter the value of coefficient \"b\" :  6\n",
      "Enter the value of the coefficient \"c\" :  9\n"
     ]
    },
    {
     "name": "stdout",
     "output_type": "stream",
     "text": [
      "The value of \"x\" is :  1.0\n"
     ]
    }
   ],
   "source": [
    "def getval(a,b,c):\n",
    "    if a == 0:\n",
    "        if b==c:\n",
    "            return 'Indefinite values'\n",
    "        \n",
    "        else:\n",
    "            return 'No Solution'\n",
    "        \n",
    "    else:\n",
    "        x = (c-b)/a\n",
    "        return x\n",
    "            \n",
    "\n",
    "\n",
    "\n",
    "print('This is the formula of a linear equation : ax+b = c')\n",
    "print('To calculate the value of x, you have to provide the value for the coefficients.')\n",
    "a = int(input('Enter the value of coefficient \"a\" : '))\n",
    "b = int(input('Enter the value of coefficient \"b\" : '))\n",
    "c = int(input('Enter the value of the coefficient \"c\" : '))\n",
    "\n",
    "x = getval(a,b,c)\n",
    "print('The value of \"x\" is : ', x)"
   ]
  },
  {
   "cell_type": "code",
   "execution_count": 8,
   "id": "ee9d411e-ec1c-48c6-9907-f935e6944df8",
   "metadata": {},
   "outputs": [
    {
     "name": "stdout",
     "output_type": "stream",
     "text": [
      "Press 1 to start the quiz.\n"
     ]
    },
    {
     "name": "stdin",
     "output_type": "stream",
     "text": [
      " 1\n"
     ]
    },
    {
     "name": "stdout",
     "output_type": "stream",
     "text": [
      "What is the capital of France? : \n"
     ]
    },
    {
     "name": "stdin",
     "output_type": "stream",
     "text": [
      " paris\n"
     ]
    },
    {
     "name": "stdout",
     "output_type": "stream",
     "text": [
      "Correct Answer\n",
      "What is the colour of the sky? : \n"
     ]
    },
    {
     "name": "stdin",
     "output_type": "stream",
     "text": [
      " blue\n"
     ]
    },
    {
     "name": "stdout",
     "output_type": "stream",
     "text": [
      "Correct Answer\n",
      "What is the favourite fruit of India?\n"
     ]
    },
    {
     "name": "stdin",
     "output_type": "stream",
     "text": [
      " mango\n"
     ]
    },
    {
     "name": "stdout",
     "output_type": "stream",
     "text": [
      "Correct Answer.\n",
      "Total score is :  3\n",
      "END\n"
     ]
    }
   ],
   "source": [
    "print('Press 1 to start the quiz.')\n",
    "a = int(input())\n",
    "c = 0\n",
    "if a == 1:\n",
    "    \n",
    "    print('What is the capital of France? : ')\n",
    "    x = input()\n",
    "    if x == 'Paris' or x == 'paris' or x == 'PARIS':\n",
    "        print('Correct Answer')\n",
    "        c = c + 1\n",
    "    else:\n",
    "        print('Wrong Answer.')\n",
    "        c = c - 1\n",
    "        \n",
    "    print('What is the colour of the sky? : ')\n",
    "    x2 = input()\n",
    "    if x2 == 'Blue' or x2 == 'blue' or x2 == 'BLUE':\n",
    "        print('Correct Answer')\n",
    "        c = c+1\n",
    "    else:\n",
    "        print('Wrong Answer.')\n",
    "        c = c - 1\n",
    "        \n",
    "        \n",
    "    \n",
    "    \n",
    "    print('What is the favourite fruit of India?')\n",
    "    x3 = input()\n",
    "    if x3 == 'Mango' or x3 == 'mango' or x3 == ' MANGO':\n",
    "        print('Correct Answer.')\n",
    "        c = c+1\n",
    "    else:\n",
    "        print('Wrong Answer.')\n",
    "        c = c - 1\n",
    "        \n",
    "else:\n",
    "    print('Dont wanna play ok.')\n",
    "    \n",
    "print('Total score is : ', c)\n",
    "    \n",
    "print('END')"
   ]
  },
  {
   "cell_type": "code",
   "execution_count": 13,
   "id": "40aeec32-36fc-4504-ab6d-efe6840239c3",
   "metadata": {},
   "outputs": [
    {
     "name": "stdin",
     "output_type": "stream",
     "text": [
      "Enter the year to be checked :  2999\n"
     ]
    },
    {
     "name": "stdout",
     "output_type": "stream",
     "text": [
      "2999 is a prime year\n"
     ]
    }
   ],
   "source": [
    "def checkprime(n):\n",
    "    if n<=1:\n",
    "        return False\n",
    "    elif n<=3:\n",
    "        return True\n",
    "    elif n%2==0 or n%3==0:\n",
    "        return False\n",
    "    p = 5\n",
    "    \n",
    "    while p*p<= n:\n",
    "        if n%p==0 or n%(p+2)==0:\n",
    "            return False\n",
    "        p = p + 6\n",
    "        \n",
    "    return True\n",
    "            \n",
    "\n",
    "\n",
    "n = int(input('Enter the year to be checked : '))\n",
    "pz = checkprime(n)\n",
    "if pz:\n",
    "    print(f'{n} is a prime year')\n",
    "else:\n",
    "    print(f'{n} is not a prime year')"
   ]
  },
  {
   "cell_type": "code",
   "execution_count": 18,
   "id": "65e77fee-b66b-48bf-8fa4-e6f7f6bfb1cc",
   "metadata": {},
   "outputs": [
    {
     "name": "stdin",
     "output_type": "stream",
     "text": [
      "Enter the first number :  34\n",
      "Enter the second number :  56\n",
      "Enter the third number :  17\n"
     ]
    },
    {
     "name": "stdout",
     "output_type": "stream",
     "text": [
      "The numbers in ascending order are :  17 34 56\n"
     ]
    }
   ],
   "source": [
    "x1 = int(input('Enter the first number : '))\n",
    "x2 =  int(input('Enter the second number : '))\n",
    "x3 =  int(input('Enter the third number : '))\n",
    "\n",
    "ascend1 = 0\n",
    "ascend2 = 0\n",
    "ascend3 = 0\n",
    "\n",
    "if x1==x2==x3 or x1==x2 or x2==x3 or x3==x1:\n",
    "    print('Ascending Order Sequence Formation Error')\n",
    "else:\n",
    "    if x1<x2 and x1<x3:\n",
    "        ascend1 = x1\n",
    "        if x2 <x3:\n",
    "            ascend2=x2\n",
    "            ascend3 = x3\n",
    "        else:\n",
    "            ascend2 = x3\n",
    "            ascend3 = x2\n",
    "    elif x2<x1 and x2<x3:\n",
    "        ascend1 = x2\n",
    "        if x1<x3:\n",
    "            ascend2 = x1\n",
    "            ascend3 = x3\n",
    "        else:\n",
    "            ascend2 = x3\n",
    "            ascend3 = x1\n",
    "    elif x3<x1 and x3<x2:\n",
    "        ascend1 = x3\n",
    "        if x1<x2:\n",
    "            ascend2 = x1\n",
    "            ascend3 = x2\n",
    "        else:\n",
    "            ascend2 = x2\n",
    "            ascend3= x1\n",
    "    \n",
    "    print('The numbers in ascending order are : ', ascend1,ascend2,ascend3)\n",
    "    \n",
    "\n",
    "\n"
   ]
  },
  {
   "cell_type": "code",
   "execution_count": 19,
   "id": "0b439a99-59cb-412c-a8f1-1b15d82ee62a",
   "metadata": {},
   "outputs": [
    {
     "name": "stdin",
     "output_type": "stream",
     "text": [
      "Enter the value of the coefficient \"a\" :  23\n",
      "Enter the value of the coefficient \"b\" :  543\n",
      "Enter the value of the coefficient \"c\" :  823\n"
     ]
    },
    {
     "name": "stdout",
     "output_type": "stream",
     "text": [
      "The first root is :  4751.95652173913\n",
      "The second root is :  -4775.565217391304\n"
     ]
    }
   ],
   "source": [
    "import math\n",
    "\n",
    "a = int(input('Enter the value of the coefficient \"a\" : '))\n",
    "b = int(input('Enter the value of the coefficient \"b\" : '))\n",
    "c = int(input('Enter the value of the coefficient \"c\" : '))\n",
    "\n",
    "dis = b**2 - 4*a*c\n",
    "\n",
    "if dis > 0:\n",
    "    x1 = ((-b) + dis)/(2*a)\n",
    "    x2 = ((-b) - dis)/(2*a)\n",
    "    print('The first root is : ', x1)\n",
    "    print('The second root is : ', x2)\n",
    "elif dis == 0:\n",
    "    x = (-b)/(2*a)\n",
    "    print('The root of the equation is : ',x)\n",
    "else:\n",
    "    xreal = (-b)/(2*a)\n",
    "    ximaginary = math.sqrt(abs(dis))/(2*a)\n",
    "    print('First root is : ', complex(xreal, ximaginary))\n",
    "    print('Second root is : ', complex(xreal, -ximaginary))"
   ]
  },
  {
   "cell_type": "code",
   "execution_count": 20,
   "id": "5f6c3839-4b9e-49a5-9d7a-f5a632dbda5a",
   "metadata": {},
   "outputs": [
    {
     "name": "stdin",
     "output_type": "stream",
     "text": [
      "Enter the value of BMI of the selected person :  34\n"
     ]
    },
    {
     "name": "stdout",
     "output_type": "stream",
     "text": [
      "The person is OBESE\n",
      "Start dieting.\n"
     ]
    }
   ],
   "source": [
    "#Considering the Indian data for BMI as:-\n",
    "#CATEGORY\tBMI RANGE kg/m2\n",
    "#Underweight\t<18.5\n",
    "#Normal Weight\t18.5 - 24.9\n",
    "#Overweight\t25 - 29.9\n",
    "#Obese\t>30#\n",
    "\n",
    "n = float(input('Enter the value of BMI of the selected person : '))\n",
    "\n",
    "if n < 18.5:\n",
    "    print('The person is underweight')\n",
    "    print('You should eat more and gain more muscle through resistance training.')\n",
    "elif 18.5<=n<=24.9:\n",
    "    print('The person has normal weight')\n",
    "    print('You should hit the gym and get trained in martial arts.')\n",
    "elif 25<=n<=29.9:\n",
    "    print('The person is overweight')\n",
    "    print('Stick to a diet of vegetables, fibre and fruits and run a mile everyday.')\n",
    "else:\n",
    "    print('The person is OBESE')\n",
    "    print('Start dieting.')"
   ]
  },
  {
   "cell_type": "code",
   "execution_count": null,
   "id": "46935edd-1f08-4872-b825-fa8adf6e7faa",
   "metadata": {},
   "outputs": [],
   "source": []
  },
  {
   "cell_type": "markdown",
   "id": "08cf7450-9f93-4ee0-b5dd-edf68a776214",
   "metadata": {},
   "source": [
    "Challenge Level:"
   ]
  },
  {
   "cell_type": "code",
   "execution_count": 22,
   "id": "260460e8-10ae-46f8-9bab-b3ba979c9dbf",
   "metadata": {},
   "outputs": [
    {
     "name": "stdin",
     "output_type": "stream",
     "text": [
      "Enter the password of the user :  RoGRaf@34\n"
     ]
    },
    {
     "name": "stdout",
     "output_type": "stream",
     "text": [
      "Password is Valid.\n"
     ]
    }
   ],
   "source": [
    "import string\n",
    "\n",
    "def checkpass(n):\n",
    "    \n",
    "    if len(n)<8:\n",
    "        return False\n",
    "    \n",
    "    if not any(c.islower() for c in n):\n",
    "        return False\n",
    "    \n",
    "    if not any(c.isupper() for c in n):\n",
    "        return False\n",
    "    \n",
    "    if not any(c.isdigit() for c in n):\n",
    "        return False\n",
    "    \n",
    "    setp = set(string.punctuation)\n",
    "    if not any(c in setp for c in n):\n",
    "        return False\n",
    "    \n",
    "    return True\n",
    "    \n",
    "\n",
    "\n",
    "\n",
    "n = input('Enter the password of the user : ')\n",
    "x = checkpass(n)\n",
    "if x:\n",
    "    print('Password is Valid.')\n",
    "else:\n",
    "    print('Pasword is not Valid.')\n",
    "    \n",
    "    "
   ]
  },
  {
   "cell_type": "code",
   "execution_count": 8,
   "id": "02dc5c47-e903-48d2-9365-6421eda03dfb",
   "metadata": {},
   "outputs": [
    {
     "name": "stdin",
     "output_type": "stream",
     "text": [
      "Enter the rows of the matrices :  2\n",
      "Enter the columns of the matrices :  2\n"
     ]
    },
    {
     "name": "stdout",
     "output_type": "stream",
     "text": [
      "Enter the elements at matrix 1 : \n"
     ]
    },
    {
     "name": "stdin",
     "output_type": "stream",
     "text": [
      "Enter the element at row 1 and column 1 :  4\n",
      "Enter the element at row 1 and column 2 :  8\n",
      "Enter the element at row 2 and column 1 :  9\n",
      "Enter the element at row 2 and column 2 :  5\n"
     ]
    },
    {
     "name": "stdout",
     "output_type": "stream",
     "text": [
      "Enter the elements at matrix 2 : \n"
     ]
    },
    {
     "name": "stdin",
     "output_type": "stream",
     "text": [
      "Enter the element at row 1 and column 1 :  7\n",
      "Enter the element at row 1 and column 2 :  8\n",
      "Enter the element at row 2 and column 1 :  6\n",
      "Enter the element at row 2 and column 2 :  9\n"
     ]
    },
    {
     "name": "stdout",
     "output_type": "stream",
     "text": [
      "Displaying the elements of the matrix1 : \n",
      "[[4.0, 8.0], [9.0, 5.0]]\n",
      "Displaying the elements of the matrix 2 : \n",
      "[[7.0, 8.0], [6.0, 9.0]]\n",
      "The result of addition of the two matrices is : \n",
      "[[11.0, 16.0], [15.0, 14.0]]\n",
      "The result of subtraction of the two matrices is : \n",
      "[[-3.0, 0.0], [3.0, -4.0]]\n"
     ]
    }
   ],
   "source": [
    "def creatematrix(rows, columns):\n",
    "    matrix = []\n",
    "    for i in range(rows):\n",
    "        row = []\n",
    "        for j in range(columns):\n",
    "            element = float(input(f'Enter the element at row {i+1} and column {j+1} : '))\n",
    "            row.append(element)\n",
    "        matrix.append(row)\n",
    "    return matrix\n",
    "\n",
    "def printmatrix(matrix):\n",
    "    for row in matrix:\n",
    "        print(' '.join(str(element) for element in row))\n",
    "        \n",
    "def matrixaddition(matrix1, matrix2):\n",
    "    result = []\n",
    "    for i in range(len(matrix1)):\n",
    "        row = []\n",
    "        for j in range(len(matrix1[0])):\n",
    "            row.append(matrix1[i][j] + matrix2[i][j])\n",
    "        result.append(row)\n",
    "    return result\n",
    "\n",
    "\n",
    "def matrixsubtraction(matrix1, matrix2):\n",
    "    result = []\n",
    "    for i in range(len(matrix1)):\n",
    "        row =[]\n",
    "        for j in range(len(matrix1[0])):\n",
    "            row.append(matrix1[i][j] - matrix2[i][j])\n",
    "        result.append(row)\n",
    "    return result\n",
    "    \n",
    "\n",
    "\n",
    "rows = int(input('Enter the rows of the matrices : '))\n",
    "columns = int(input('Enter the columns of the matrices : '))\n",
    "\n",
    "\n",
    "print('Enter the elements at matrix 1 : ')\n",
    "matrix1 = creatematrix(rows, columns)\n",
    "\n",
    "print('Enter the elements at matrix 2 : ')\n",
    "matrix2 = creatematrix(rows, columns)\n",
    "\n",
    "print('Displaying the elements of the matrix1 : ')\n",
    "print(matrix1)\n",
    "\n",
    "print('Displaying the elements of the matrix 2 : ')\n",
    "print(matrix2)\n",
    "\n",
    "\n",
    "print('The result of addition of the two matrices is : ')\n",
    "addm = matrixaddition(matrix1,matrix2)\n",
    "print(addm)\n",
    "\n",
    "print('The result of subtraction of the two matrices is : ')\n",
    "subm = matrixsubtraction(matrix1, matrix2)\n",
    "print(subm)"
   ]
  },
  {
   "cell_type": "code",
   "execution_count": 10,
   "id": "a2d9ca70-a1e7-4b19-9786-55bdcc238c12",
   "metadata": {},
   "outputs": [
    {
     "name": "stdin",
     "output_type": "stream",
     "text": [
      "Enter the first number :  45\n",
      "Enter the second number :  60\n"
     ]
    },
    {
     "name": "stdout",
     "output_type": "stream",
     "text": [
      "The gcd of 45 and 60 is 15\n"
     ]
    }
   ],
   "source": [
    "def eucligcd(x,y):\n",
    "    while y:\n",
    "        x,y = y,x%y\n",
    "        \n",
    "    return x\n",
    "\n",
    "\n",
    "n1 = int(input('Enter the first number : '))\n",
    "n2 = int(input('Enter the second number : '))\n",
    "\n",
    "gcd = eucligcd(n1,n2)\n",
    "print(f'The gcd of {n1} and {n2} is {gcd}')"
   ]
  },
  {
   "cell_type": "code",
   "execution_count": 14,
   "id": "c4f8cfc9-c8d7-4b3b-ad9b-93eec02b976d",
   "metadata": {},
   "outputs": [
    {
     "name": "stdin",
     "output_type": "stream",
     "text": [
      "Enter the rows of the first matrix :  2\n",
      "Enter the columns of the first matrix :  3\n",
      "Enter the rows of the second matrix :  3\n",
      "Enter the columns of the second matrix :  2\n"
     ]
    },
    {
     "name": "stdout",
     "output_type": "stream",
     "text": [
      "Enter elements for the first matrix : \n"
     ]
    },
    {
     "name": "stdin",
     "output_type": "stream",
     "text": [
      "Enter the element at the 1 row and the 1 column :  12\n",
      "Enter the element at the 1 row and the 2 column :  13\n",
      "Enter the element at the 1 row and the 3 column :  14\n",
      "Enter the element at the 2 row and the 1 column :  15\n",
      "Enter the element at the 2 row and the 2 column :  18\n",
      "Enter the element at the 2 row and the 3 column :  16\n"
     ]
    },
    {
     "name": "stdout",
     "output_type": "stream",
     "text": [
      "Enter elements for the second matrix : \n"
     ]
    },
    {
     "name": "stdin",
     "output_type": "stream",
     "text": [
      "Enter the element at the 1 row and the 1 column :  17\n",
      "Enter the element at the 1 row and the 2 column :  19\n",
      "Enter the element at the 2 row and the 1 column :  13\n",
      "Enter the element at the 2 row and the 2 column :  15\n",
      "Enter the element at the 3 row and the 1 column :  11\n",
      "Enter the element at the 3 row and the 2 column :  9\n"
     ]
    },
    {
     "name": "stdout",
     "output_type": "stream",
     "text": [
      "Display the first matrix : \n",
      "12.0 13.0 14.0\n",
      "15.0 18.0 16.0\n",
      "Display the second matrix : \n",
      "17.0 19.0\n",
      "13.0 15.0\n",
      "11.0 9.0\n",
      "The result of matrix multiplication is : \n",
      "[[204.0, 247.0], [195.0, 270.0]]\n"
     ]
    }
   ],
   "source": [
    "def creatematrix(r,l):\n",
    "    matrix = []\n",
    "    for i in range(r):\n",
    "        row = []\n",
    "        for j in range(l):\n",
    "            element = float(input(f'Enter the element at the {i+1} row and the {j+1} column : '))\n",
    "            row.append(element)\n",
    "        matrix.append(row)\n",
    "        \n",
    "    return matrix\n",
    "\n",
    "def displaymatrix(matrix):\n",
    "    for row in matrix:\n",
    "        print(' '.join(str(x) for x in row))\n",
    "        \n",
    "\n",
    "def matrixmultiplication(matrix1, matrix2):\n",
    "    if len(matrix1[0])!=len(matrix2):\n",
    "        raise ValueError('The columns of the first matrix has to match the rows of the second matrix.')\n",
    "        \n",
    "    result = []\n",
    "    \n",
    "    for i in range(len(matrix1)):\n",
    "        row = []\n",
    "        for j in range(len(matrix2[0])):\n",
    "            s = 0\n",
    "            for k in range(len(matrix2)):\n",
    "                s = matrix1[i][j]*matrix2[i][j]\n",
    "            row.append(s)\n",
    "            \n",
    "        result.append(row)\n",
    "        \n",
    "    return result\n",
    "                                \n",
    "    \n",
    "r1 = int(input('Enter the rows of the first matrix : '))\n",
    "l1 = int(input('Enter the columns of the first matrix : '))\n",
    "\n",
    "r2 = int(input('Enter the rows of the second matrix : '))\n",
    "l2 = int(input('Enter the columns of the second matrix : '))\n",
    "\n",
    "\n",
    "if l1!=r2:\n",
    "    raise ValueError('Number of columns in the first matrix != Number of rows in the second matrix.')\n",
    "    \n",
    "print('Enter elements for the first matrix : ')\n",
    "matrix1 = creatematrix(r1,l1)\n",
    "\n",
    "print('Enter elements for the second matrix : ')\n",
    "matrix2 = creatematrix(r2,l2)\n",
    "\n",
    "print('Display the first matrix : ')\n",
    "displaymatrix(matrix1)\n",
    "\n",
    "print('Display the second matrix : ')\n",
    "displaymatrix(matrix2)\n",
    "\n",
    "print('The result of matrix multiplication is : ')\n",
    "result = matrixmultiplication(matrix1, matrix2)\n",
    "print(result)"
   ]
  },
  {
   "cell_type": "code",
   "execution_count": 1,
   "id": "1ced904c-bc46-49f3-86a6-b547c901347d",
   "metadata": {},
   "outputs": [
    {
     "name": "stdout",
     "output_type": "stream",
     "text": [
      "Welcome to game of Tic-Tac-Toe : \n",
      "  |   |  \n",
      "---------------\n",
      "  |   |  \n",
      "---------------\n",
      "  |   |  \n",
      "---------------\n"
     ]
    },
    {
     "name": "stdin",
     "output_type": "stream",
     "text": [
      "Enter your move (in terms of row and column e.g., \"3 4\"):  1 1\n"
     ]
    },
    {
     "name": "stdout",
     "output_type": "stream",
     "text": [
      "X |   |  \n",
      "---------------\n",
      "  |   |  \n",
      "---------------\n",
      "  |   |  \n",
      "---------------\n",
      "Computers Turn \n",
      "X |   |  \n",
      "---------------\n",
      "  | O |  \n",
      "---------------\n",
      "  |   |  \n",
      "---------------\n"
     ]
    },
    {
     "name": "stdin",
     "output_type": "stream",
     "text": [
      "Enter your move (in terms of row and column e.g., \"3 4\"):  3 1\n"
     ]
    },
    {
     "name": "stdout",
     "output_type": "stream",
     "text": [
      "X |   |  \n",
      "---------------\n",
      "  | O |  \n",
      "---------------\n",
      "X |   |  \n",
      "---------------\n",
      "Computers Turn \n",
      "X |   |  \n",
      "---------------\n",
      "  | O |  \n",
      "---------------\n",
      "X | O |  \n",
      "---------------\n"
     ]
    },
    {
     "name": "stdin",
     "output_type": "stream",
     "text": [
      "Enter your move (in terms of row and column e.g., \"3 4\"):  2 1\n"
     ]
    },
    {
     "name": "stdout",
     "output_type": "stream",
     "text": [
      "X |   |  \n",
      "---------------\n",
      "X | O |  \n",
      "---------------\n",
      "X | O |  \n",
      "---------------\n",
      "Player wins\n"
     ]
    }
   ],
   "source": [
    "import random\n",
    "\n",
    "def print_board(board):\n",
    "    for row in board:\n",
    "        print(\" | \".join(row))\n",
    "        print(\"-\"*15)\n",
    "        \n",
    "def win(board,player):\n",
    "    for i in range(3):\n",
    "        if all(board[i][j] == player for j in range(3)) or all(board[j][i]==player for j in range(3)):\n",
    "            return True\n",
    "        if all(board[i][i] == player for i in range(3)) or all(board[i][2-i]==player for i in range(3)):\n",
    "            return True\n",
    "        return False\n",
    "    \n",
    "def fullboard(board):\n",
    "    return all(cell != ' ' for row in board for cell in row)\n",
    "\n",
    "def checkcomputermove(board):\n",
    "    emptycell = [(i,j) for i in range(3) for j in range(3) if board[i][j]==' ']\n",
    "    return random.choice(emptycell)\n",
    "                 \n",
    "                                                                    \n",
    "\n",
    "\n",
    "\n",
    "board = [[' ' for i in range(3)] for j in range(3)]\n",
    "player = 'X'\n",
    "computer = 'O'\n",
    "\n",
    "print('Welcome to game of Tic-Tac-Toe : ')\n",
    "print_board(board)\n",
    "\n",
    "while True:\n",
    "    if player == 'X':\n",
    "        row, col = map(int, input('Enter your move (in terms of row and column e.g., \"3 4\"): ').split())\n",
    "\n",
    "    else:\n",
    "        print('Computers Turn ')\n",
    "        row, col = checkcomputermove(board)\n",
    "                       \n",
    "                       \n",
    "    if board[row - 1][col - 1] == ' ':\n",
    "                       board[row -1][col - 1] = player\n",
    "    else:\n",
    "                       print('Invalid Move. Try Again with Precision.')\n",
    "                       continue\n",
    "                       \n",
    "    print_board(board)\n",
    "                       \n",
    "    if win(board, player):\n",
    "                       print('Player wins')\n",
    "                       break\n",
    "                       \n",
    "    elif fullboard(board):\n",
    "                       print('Its a tie')\n",
    "    \n",
    "                       \n",
    "                       \n",
    "                       \n",
    "    \n",
    "    player, computer = computer, player\n",
    "                       \n",
    "    \n",
    "                       \n"
   ]
  },
  {
   "cell_type": "code",
   "execution_count": 5,
   "id": "554ef590-51d1-48bd-a5e4-230669ed33db",
   "metadata": {},
   "outputs": [
    {
     "name": "stdin",
     "output_type": "stream",
     "text": [
      "Enter the limit :  10\n"
     ]
    },
    {
     "name": "stdout",
     "output_type": "stream",
     "text": [
      "The fibonacci series as desired :  [0, 1, 1, 2, 3, 5, 8, 13, 21, 34]\n"
     ]
    }
   ],
   "source": [
    "def generatefib(n):\n",
    "    fibseq = []\n",
    "    \n",
    "    if n>=1:\n",
    "        fibseq.append(0)\n",
    "        \n",
    "    if n>=2:\n",
    "        fibseq.append(1)\n",
    "        \n",
    "    while len(fibseq)<n:\n",
    "        nextfib = fibseq[-1] + fibseq[-2]\n",
    "        fibseq.append(nextfib)\n",
    "        \n",
    "    return fibseq\n",
    "\n",
    "\n",
    "n = int(input('Enter the limit : '))\n",
    "\n",
    "fibseq = generatefib(n)\n",
    "\n",
    "print('The fibonacci series as desired : ', fibseq)"
   ]
  },
  {
   "cell_type": "code",
   "execution_count": 12,
   "id": "17a6d8b5-7008-4791-913e-e9ffc6946464",
   "metadata": {},
   "outputs": [
    {
     "name": "stdin",
     "output_type": "stream",
     "text": [
      "Enter the limit :  10\n"
     ]
    },
    {
     "name": "stdout",
     "output_type": "stream",
     "text": [
      "The fibonacci series :  55\n"
     ]
    }
   ],
   "source": [
    "cache = {}\n",
    "\n",
    "def fib(n):\n",
    "    if n in cache:\n",
    "        return cache[n]\n",
    "    \n",
    "    if n==0:\n",
    "        res = 0\n",
    "        \n",
    "    elif n==1:\n",
    "        res=1\n",
    "    else:\n",
    "        res = fib(n-1) + fib(n-2)\n",
    "        \n",
    "    cache[n] = res\n",
    "    \n",
    "    return res\n",
    "\n",
    "\n",
    "n = int(input('Enter the limit : '))\n",
    "\n",
    "res = fib(n)\n",
    "\n",
    "print('The fibonacci series : ', res)"
   ]
  },
  {
   "cell_type": "code",
   "execution_count": 16,
   "id": "0855adf2-0e81-4972-8ba4-83b955f37540",
   "metadata": {},
   "outputs": [
    {
     "name": "stdin",
     "output_type": "stream",
     "text": [
      "Enter the desired year of the user :  1969\n",
      "Enter the desired month of the user :  7\n"
     ]
    },
    {
     "name": "stdout",
     "output_type": "stream",
     "text": [
      "The calendar as desired by the user is : \n",
      "     July 1969\n",
      "Mo Tu We Th Fr Sa Su\n",
      "    1  2  3  4  5  6\n",
      " 7  8  9 10 11 12 13\n",
      "14 15 16 17 18 19 20\n",
      "21 22 23 24 25 26 27\n",
      "28 29 30 31\n",
      "\n"
     ]
    }
   ],
   "source": [
    "import calendar\n",
    "\n",
    "def gencal(month,year):\n",
    "    \n",
    "    calen = calendar.month(year,month)\n",
    "    \n",
    "    print('The calendar as desired by the user is : ')\n",
    "    \n",
    "    print(calen)\n",
    "\n",
    "\n",
    "\n",
    "year = int(input('Enter the desired year of the user : '))\n",
    "month = int(input('Enter the desired month of the user : '))\n",
    "\n",
    "if 1<=month<=12:\n",
    "    gencal(month, year)\n",
    "else:\n",
    "    print('Invalid Input')"
   ]
  },
  {
   "cell_type": "code",
   "execution_count": 18,
   "id": "0492319a-79e9-4ca1-b70d-0e9b068949e0",
   "metadata": {},
   "outputs": [
    {
     "name": "stdin",
     "output_type": "stream",
     "text": [
      "Enter the number :  70\n"
     ]
    },
    {
     "name": "stdout",
     "output_type": "stream",
     "text": [
      "The prime factors of 70 are [2, 5, 7]\n"
     ]
    }
   ],
   "source": [
    "def primefacts(n):\n",
    "    factors = []\n",
    "    divisor = 2\n",
    "    \n",
    "    while divisor<=n:\n",
    "        if n%divisor==0:\n",
    "            factors.append(divisor)\n",
    "            n = n//divisor\n",
    "        else:\n",
    "            divisor = divisor+1\n",
    "            \n",
    "    return factors\n",
    "\n",
    "\n",
    "try:\n",
    "    n = int(input('Enter the number : '))\n",
    "    \n",
    "    if n<=0:\n",
    "        print('Please provide a positive number.')\n",
    "    else:\n",
    "        factors = primefacts(n)\n",
    "        \n",
    "    if len(factors)==0:\n",
    "        print(f'{n} is a prime number')\n",
    "    else:\n",
    "        print(f'The prime factors of {n} are {factors}')\n",
    "        \n",
    "except ValueError:\n",
    "    print('Invalid Input')"
   ]
  },
  {
   "cell_type": "code",
   "execution_count": null,
   "id": "ebe97637-baa8-4cfe-89f6-556dbe51ddad",
   "metadata": {},
   "outputs": [],
   "source": []
  }
 ],
 "metadata": {
  "kernelspec": {
   "display_name": "Python 3 (ipykernel)",
   "language": "python",
   "name": "python3"
  },
  "language_info": {
   "codemirror_mode": {
    "name": "ipython",
    "version": 3
   },
   "file_extension": ".py",
   "mimetype": "text/x-python",
   "name": "python",
   "nbconvert_exporter": "python",
   "pygments_lexer": "ipython3",
   "version": "3.10.8"
  }
 },
 "nbformat": 4,
 "nbformat_minor": 5
}
